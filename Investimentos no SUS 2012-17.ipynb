{
 "cells": [
  {
   "cell_type": "markdown",
   "metadata": {},
   "source": [
    "#### Investimentos no SUS 2012-17\n",
    "##### arquivo : investimentos-sus-2012-2017.csv"
   ]
  },
  {
   "cell_type": "code",
   "execution_count": 1,
   "metadata": {},
   "outputs": [
    {
     "name": "stdout",
     "output_type": "stream",
     "text": [
      "C:\\Users\\Rosangela\\Documents\\data\\Dados SUS\\dados\\covid_sus_dez2019\n"
     ]
    }
   ],
   "source": [
    "import os\n",
    "print(os.getcwd())"
   ]
  },
  {
   "cell_type": "code",
   "execution_count": 2,
   "metadata": {},
   "outputs": [],
   "source": [
    "import pandas as pd\n",
    "import pandas as np"
   ]
  },
  {
   "cell_type": "code",
   "execution_count": 3,
   "metadata": {},
   "outputs": [
    {
     "name": "stdout",
     "output_type": "stream",
     "text": [
      "['code;\"city\";\"state\";\"abbreviation\";\"region\";\"lat\";\"long\";\"year\";\"population\"']\n"
     ]
    }
   ],
   "source": [
    "import csv\n",
    "arquivo = open('brazil-population-1998-2017.csv', encoding='latin-1')\n",
    "leitor = csv.reader(arquivo)\n",
    "print(next(leitor))\n"
   ]
  },
  {
   "cell_type": "code",
   "execution_count": 4,
   "metadata": {},
   "outputs": [
    {
     "data": {
      "text/html": [
       "<div>\n",
       "<style scoped>\n",
       "    .dataframe tbody tr th:only-of-type {\n",
       "        vertical-align: middle;\n",
       "    }\n",
       "\n",
       "    .dataframe tbody tr th {\n",
       "        vertical-align: top;\n",
       "    }\n",
       "\n",
       "    .dataframe thead th {\n",
       "        text-align: right;\n",
       "    }\n",
       "</style>\n",
       "<table border=\"1\" class=\"dataframe\">\n",
       "  <thead>\n",
       "    <tr style=\"text-align: right;\">\n",
       "      <th></th>\n",
       "      <th>code</th>\n",
       "      <th>city</th>\n",
       "      <th>state</th>\n",
       "    </tr>\n",
       "  </thead>\n",
       "  <tbody>\n",
       "    <tr>\n",
       "      <th>0</th>\n",
       "      <td>110001</td>\n",
       "      <td>Alta Floresta D'Oeste</td>\n",
       "      <td>Rondônia</td>\n",
       "    </tr>\n",
       "    <tr>\n",
       "      <th>1</th>\n",
       "      <td>110001</td>\n",
       "      <td>Alta Floresta D'Oeste</td>\n",
       "      <td>Rondônia</td>\n",
       "    </tr>\n",
       "    <tr>\n",
       "      <th>2</th>\n",
       "      <td>110001</td>\n",
       "      <td>Alta Floresta D'Oeste</td>\n",
       "      <td>Rondônia</td>\n",
       "    </tr>\n",
       "    <tr>\n",
       "      <th>3</th>\n",
       "      <td>110001</td>\n",
       "      <td>Alta Floresta D'Oeste</td>\n",
       "      <td>Rondônia</td>\n",
       "    </tr>\n",
       "    <tr>\n",
       "      <th>4</th>\n",
       "      <td>110001</td>\n",
       "      <td>Alta Floresta D'Oeste</td>\n",
       "      <td>Rondônia</td>\n",
       "    </tr>\n",
       "  </tbody>\n",
       "</table>\n",
       "</div>"
      ],
      "text/plain": [
       "     code                   city     state\n",
       "0  110001  Alta Floresta D'Oeste  Rondônia\n",
       "1  110001  Alta Floresta D'Oeste  Rondônia\n",
       "2  110001  Alta Floresta D'Oeste  Rondônia\n",
       "3  110001  Alta Floresta D'Oeste  Rondônia\n",
       "4  110001  Alta Floresta D'Oeste  Rondônia"
      ]
     },
     "execution_count": 4,
     "metadata": {},
     "output_type": "execute_result"
    }
   ],
   "source": [
    "#Baixando dados de brasil para juntar códigos IBGE número de muncipío\n",
    "brasil = pd.read_csv('brazil-population-1998-2017.csv', sep=';', encoding='utf8', usecols=['code','city','state'])\n",
    "brasil.head()"
   ]
  },
  {
   "cell_type": "code",
   "execution_count": 5,
   "metadata": {},
   "outputs": [
    {
     "name": "stdout",
     "output_type": "stream",
     "text": [
      "<class 'pandas.core.frame.DataFrame'>\n",
      "RangeIndex: 111137 entries, 0 to 111136\n",
      "Data columns (total 3 columns):\n",
      "code     111137 non-null int64\n",
      "city     111137 non-null object\n",
      "state    111137 non-null object\n",
      "dtypes: int64(1), object(2)\n",
      "memory usage: 2.5+ MB\n"
     ]
    }
   ],
   "source": [
    "brasil.info()"
   ]
  },
  {
   "cell_type": "code",
   "execution_count": 6,
   "metadata": {},
   "outputs": [
    {
     "data": {
      "text/html": [
       "<div>\n",
       "<style scoped>\n",
       "    .dataframe tbody tr th:only-of-type {\n",
       "        vertical-align: middle;\n",
       "    }\n",
       "\n",
       "    .dataframe tbody tr th {\n",
       "        vertical-align: top;\n",
       "    }\n",
       "\n",
       "    .dataframe thead th {\n",
       "        text-align: right;\n",
       "    }\n",
       "</style>\n",
       "<table border=\"1\" class=\"dataframe\">\n",
       "  <thead>\n",
       "    <tr style=\"text-align: right;\">\n",
       "      <th></th>\n",
       "      <th>nome</th>\n",
       "      <th>vlTotal</th>\n",
       "      <th>vlDesconto</th>\n",
       "      <th>vlLiquido</th>\n",
       "      <th>ANO</th>\n",
       "      <th>MUNICIPIO</th>\n",
       "    </tr>\n",
       "  </thead>\n",
       "  <tbody>\n",
       "    <tr>\n",
       "      <th>0</th>\n",
       "      <td>ASSISTÊNCIA FARMACÊUTICA</td>\n",
       "      <td>124205.40</td>\n",
       "      <td>0.0</td>\n",
       "      <td>124205.40</td>\n",
       "      <td>2012</td>\n",
       "      <td>110001</td>\n",
       "    </tr>\n",
       "    <tr>\n",
       "      <th>1</th>\n",
       "      <td>ATENÇÃO BÁSICA</td>\n",
       "      <td>2572117.87</td>\n",
       "      <td>0.0</td>\n",
       "      <td>2572117.87</td>\n",
       "      <td>2012</td>\n",
       "      <td>110001</td>\n",
       "    </tr>\n",
       "    <tr>\n",
       "      <th>2</th>\n",
       "      <td>INVESTIMENTO</td>\n",
       "      <td>60000.00</td>\n",
       "      <td>0.0</td>\n",
       "      <td>60000.00</td>\n",
       "      <td>2012</td>\n",
       "      <td>110001</td>\n",
       "    </tr>\n",
       "    <tr>\n",
       "      <th>3</th>\n",
       "      <td>MÉDIA E ALTA COMPLEXIDADE AMBULATORIAL E HOSPI...</td>\n",
       "      <td>2013077.58</td>\n",
       "      <td>960.0</td>\n",
       "      <td>2012117.58</td>\n",
       "      <td>2012</td>\n",
       "      <td>110001</td>\n",
       "    </tr>\n",
       "    <tr>\n",
       "      <th>4</th>\n",
       "      <td>VIGILÂNCIA EM SAÚDE</td>\n",
       "      <td>246711.20</td>\n",
       "      <td>0.0</td>\n",
       "      <td>246711.20</td>\n",
       "      <td>2012</td>\n",
       "      <td>110001</td>\n",
       "    </tr>\n",
       "  </tbody>\n",
       "</table>\n",
       "</div>"
      ],
      "text/plain": [
       "                                                nome     vlTotal  vlDesconto  \\\n",
       "0                           ASSISTÊNCIA FARMACÊUTICA   124205.40         0.0   \n",
       "1                                     ATENÇÃO BÁSICA  2572117.87         0.0   \n",
       "2                                       INVESTIMENTO    60000.00         0.0   \n",
       "3  MÉDIA E ALTA COMPLEXIDADE AMBULATORIAL E HOSPI...  2013077.58       960.0   \n",
       "4                                VIGILÂNCIA EM SAÚDE   246711.20         0.0   \n",
       "\n",
       "    vlLiquido   ANO  MUNICIPIO  \n",
       "0   124205.40  2012     110001  \n",
       "1  2572117.87  2012     110001  \n",
       "2    60000.00  2012     110001  \n",
       "3  2012117.58  2012     110001  \n",
       "4   246711.20  2012     110001  "
      ]
     },
     "execution_count": 6,
     "metadata": {},
     "output_type": "execute_result"
    }
   ],
   "source": [
    "df_investe = pd.read_csv('investimentos-sus-2012-2017.csv', sep=';', encoding='utf-8')\n",
    "df_investe.head()"
   ]
  },
  {
   "cell_type": "code",
   "execution_count": 7,
   "metadata": {},
   "outputs": [
    {
     "data": {
      "text/html": [
       "<div>\n",
       "<style scoped>\n",
       "    .dataframe tbody tr th:only-of-type {\n",
       "        vertical-align: middle;\n",
       "    }\n",
       "\n",
       "    .dataframe tbody tr th {\n",
       "        vertical-align: top;\n",
       "    }\n",
       "\n",
       "    .dataframe thead th {\n",
       "        text-align: right;\n",
       "    }\n",
       "</style>\n",
       "<table border=\"1\" class=\"dataframe\">\n",
       "  <thead>\n",
       "    <tr style=\"text-align: right;\">\n",
       "      <th></th>\n",
       "      <th>nome</th>\n",
       "      <th>vlTotal</th>\n",
       "      <th>vlDesconto</th>\n",
       "      <th>vlLiquido</th>\n",
       "      <th>ANO</th>\n",
       "      <th>code</th>\n",
       "    </tr>\n",
       "  </thead>\n",
       "  <tbody>\n",
       "    <tr>\n",
       "      <th>0</th>\n",
       "      <td>ASSISTÊNCIA FARMACÊUTICA</td>\n",
       "      <td>124205.40</td>\n",
       "      <td>0.0</td>\n",
       "      <td>124205.40</td>\n",
       "      <td>2012</td>\n",
       "      <td>110001</td>\n",
       "    </tr>\n",
       "    <tr>\n",
       "      <th>1</th>\n",
       "      <td>ATENÇÃO BÁSICA</td>\n",
       "      <td>2572117.87</td>\n",
       "      <td>0.0</td>\n",
       "      <td>2572117.87</td>\n",
       "      <td>2012</td>\n",
       "      <td>110001</td>\n",
       "    </tr>\n",
       "    <tr>\n",
       "      <th>2</th>\n",
       "      <td>INVESTIMENTO</td>\n",
       "      <td>60000.00</td>\n",
       "      <td>0.0</td>\n",
       "      <td>60000.00</td>\n",
       "      <td>2012</td>\n",
       "      <td>110001</td>\n",
       "    </tr>\n",
       "    <tr>\n",
       "      <th>3</th>\n",
       "      <td>MÉDIA E ALTA COMPLEXIDADE AMBULATORIAL E HOSPI...</td>\n",
       "      <td>2013077.58</td>\n",
       "      <td>960.0</td>\n",
       "      <td>2012117.58</td>\n",
       "      <td>2012</td>\n",
       "      <td>110001</td>\n",
       "    </tr>\n",
       "    <tr>\n",
       "      <th>4</th>\n",
       "      <td>VIGILÂNCIA EM SAÚDE</td>\n",
       "      <td>246711.20</td>\n",
       "      <td>0.0</td>\n",
       "      <td>246711.20</td>\n",
       "      <td>2012</td>\n",
       "      <td>110001</td>\n",
       "    </tr>\n",
       "  </tbody>\n",
       "</table>\n",
       "</div>"
      ],
      "text/plain": [
       "                                                nome     vlTotal  vlDesconto  \\\n",
       "0                           ASSISTÊNCIA FARMACÊUTICA   124205.40         0.0   \n",
       "1                                     ATENÇÃO BÁSICA  2572117.87         0.0   \n",
       "2                                       INVESTIMENTO    60000.00         0.0   \n",
       "3  MÉDIA E ALTA COMPLEXIDADE AMBULATORIAL E HOSPI...  2013077.58       960.0   \n",
       "4                                VIGILÂNCIA EM SAÚDE   246711.20         0.0   \n",
       "\n",
       "    vlLiquido   ANO    code  \n",
       "0   124205.40  2012  110001  \n",
       "1  2572117.87  2012  110001  \n",
       "2    60000.00  2012  110001  \n",
       "3  2012117.58  2012  110001  \n",
       "4   246711.20  2012  110001  "
      ]
     },
     "execution_count": 7,
     "metadata": {},
     "output_type": "execute_result"
    }
   ],
   "source": [
    "df_investe.rename(columns={'MUNICIPIO': 'code'}, inplace=True)\n",
    "df_investe.head() "
   ]
  },
  {
   "cell_type": "code",
   "execution_count": 8,
   "metadata": {},
   "outputs": [
    {
     "data": {
      "text/html": [
       "<div>\n",
       "<style scoped>\n",
       "    .dataframe tbody tr th:only-of-type {\n",
       "        vertical-align: middle;\n",
       "    }\n",
       "\n",
       "    .dataframe tbody tr th {\n",
       "        vertical-align: top;\n",
       "    }\n",
       "\n",
       "    .dataframe thead th {\n",
       "        text-align: right;\n",
       "    }\n",
       "</style>\n",
       "<table border=\"1\" class=\"dataframe\">\n",
       "  <thead>\n",
       "    <tr style=\"text-align: right;\">\n",
       "      <th></th>\n",
       "      <th>nome</th>\n",
       "      <th>vlTotal</th>\n",
       "      <th>vlDesconto</th>\n",
       "      <th>vlLiquido</th>\n",
       "      <th>ANO</th>\n",
       "      <th>code</th>\n",
       "      <th>city</th>\n",
       "      <th>state</th>\n",
       "    </tr>\n",
       "  </thead>\n",
       "  <tbody>\n",
       "    <tr>\n",
       "      <th>0</th>\n",
       "      <td>ASSISTÊNCIA FARMACÊUTICA</td>\n",
       "      <td>124205.4</td>\n",
       "      <td>0.0</td>\n",
       "      <td>124205.4</td>\n",
       "      <td>2012</td>\n",
       "      <td>110001</td>\n",
       "      <td>Alta Floresta D'Oeste</td>\n",
       "      <td>Rondônia</td>\n",
       "    </tr>\n",
       "    <tr>\n",
       "      <th>0</th>\n",
       "      <td>ASSISTÊNCIA FARMACÊUTICA</td>\n",
       "      <td>124205.4</td>\n",
       "      <td>0.0</td>\n",
       "      <td>124205.4</td>\n",
       "      <td>2012</td>\n",
       "      <td>110001</td>\n",
       "      <td>Alta Floresta D'Oeste</td>\n",
       "      <td>Rondônia</td>\n",
       "    </tr>\n",
       "    <tr>\n",
       "      <th>0</th>\n",
       "      <td>ASSISTÊNCIA FARMACÊUTICA</td>\n",
       "      <td>124205.4</td>\n",
       "      <td>0.0</td>\n",
       "      <td>124205.4</td>\n",
       "      <td>2012</td>\n",
       "      <td>110001</td>\n",
       "      <td>Alta Floresta D'Oeste</td>\n",
       "      <td>Rondônia</td>\n",
       "    </tr>\n",
       "    <tr>\n",
       "      <th>0</th>\n",
       "      <td>ASSISTÊNCIA FARMACÊUTICA</td>\n",
       "      <td>124205.4</td>\n",
       "      <td>0.0</td>\n",
       "      <td>124205.4</td>\n",
       "      <td>2012</td>\n",
       "      <td>110001</td>\n",
       "      <td>Alta Floresta D'Oeste</td>\n",
       "      <td>Rondônia</td>\n",
       "    </tr>\n",
       "    <tr>\n",
       "      <th>0</th>\n",
       "      <td>ASSISTÊNCIA FARMACÊUTICA</td>\n",
       "      <td>124205.4</td>\n",
       "      <td>0.0</td>\n",
       "      <td>124205.4</td>\n",
       "      <td>2012</td>\n",
       "      <td>110001</td>\n",
       "      <td>Alta Floresta D'Oeste</td>\n",
       "      <td>Rondônia</td>\n",
       "    </tr>\n",
       "  </tbody>\n",
       "</table>\n",
       "</div>"
      ],
      "text/plain": [
       "                       nome   vlTotal  vlDesconto  vlLiquido   ANO    code  \\\n",
       "0  ASSISTÊNCIA FARMACÊUTICA  124205.4         0.0   124205.4  2012  110001   \n",
       "0  ASSISTÊNCIA FARMACÊUTICA  124205.4         0.0   124205.4  2012  110001   \n",
       "0  ASSISTÊNCIA FARMACÊUTICA  124205.4         0.0   124205.4  2012  110001   \n",
       "0  ASSISTÊNCIA FARMACÊUTICA  124205.4         0.0   124205.4  2012  110001   \n",
       "0  ASSISTÊNCIA FARMACÊUTICA  124205.4         0.0   124205.4  2012  110001   \n",
       "\n",
       "                    city     state  \n",
       "0  Alta Floresta D'Oeste  Rondônia  \n",
       "0  Alta Floresta D'Oeste  Rondônia  \n",
       "0  Alta Floresta D'Oeste  Rondônia  \n",
       "0  Alta Floresta D'Oeste  Rondônia  \n",
       "0  Alta Floresta D'Oeste  Rondônia  "
      ]
     },
     "execution_count": 8,
     "metadata": {},
     "output_type": "execute_result"
    }
   ],
   "source": [
    "df_new = df_investe.join(brasil.set_index('code'), on='code')\n",
    "df_new.head(5)"
   ]
  },
  {
   "cell_type": "code",
   "execution_count": 9,
   "metadata": {},
   "outputs": [
    {
     "name": "stdout",
     "output_type": "stream",
     "text": [
      "<class 'pandas.core.frame.DataFrame'>\n",
      "Int64Index: 2971528 entries, 0 to 148897\n",
      "Data columns (total 8 columns):\n",
      "nome          object\n",
      "vlTotal       float64\n",
      "vlDesconto    float64\n",
      "vlLiquido     float64\n",
      "ANO           int64\n",
      "code          int64\n",
      "city          object\n",
      "state         object\n",
      "dtypes: float64(3), int64(2), object(3)\n",
      "memory usage: 204.0+ MB\n"
     ]
    }
   ],
   "source": [
    "df_new.info()"
   ]
  },
  {
   "cell_type": "code",
   "execution_count": 10,
   "metadata": {},
   "outputs": [
    {
     "data": {
      "text/plain": [
       "2017    510025\n",
       "2013    501269\n",
       "2016    494668\n",
       "2012    492682\n",
       "2015    491942\n",
       "2014    480942\n",
       "Name: ANO, dtype: int64"
      ]
     },
     "execution_count": 10,
     "metadata": {},
     "output_type": "execute_result"
    }
   ],
   "source": [
    "df_new['ANO'].value_counts()"
   ]
  },
  {
   "cell_type": "code",
   "execution_count": 11,
   "metadata": {},
   "outputs": [
    {
     "data": {
      "text/plain": [
       "ATENÇÃO BÁSICA                                         666712\n",
       "VIGILÂNCIA EM SAÚDE                                    666612\n",
       "ASSISTÊNCIA FARMACÊUTICA                               536230\n",
       "MÉDIA E ALTA COMPLEXIDADE AMBULATORIAL E HOSPITALAR    518662\n",
       "INVESTIMENTO                                           499513\n",
       "GESTÃO DO SUS                                           83729\n",
       "Name: nome, dtype: int64"
      ]
     },
     "execution_count": 11,
     "metadata": {},
     "output_type": "execute_result"
    }
   ],
   "source": [
    "df_new['nome'].value_counts()"
   ]
  },
  {
   "cell_type": "code",
   "execution_count": 12,
   "metadata": {},
   "outputs": [
    {
     "data": {
      "text/html": [
       "<div>\n",
       "<style scoped>\n",
       "    .dataframe tbody tr th:only-of-type {\n",
       "        vertical-align: middle;\n",
       "    }\n",
       "\n",
       "    .dataframe tbody tr th {\n",
       "        vertical-align: top;\n",
       "    }\n",
       "\n",
       "    .dataframe thead th {\n",
       "        text-align: right;\n",
       "    }\n",
       "</style>\n",
       "<table border=\"1\" class=\"dataframe\">\n",
       "  <thead>\n",
       "    <tr style=\"text-align: right;\">\n",
       "      <th></th>\n",
       "      <th>nome</th>\n",
       "      <th>vlTotal</th>\n",
       "      <th>vlDesconto</th>\n",
       "      <th>vlLiquido</th>\n",
       "      <th>ANO</th>\n",
       "      <th>code</th>\n",
       "      <th>city</th>\n",
       "      <th>state</th>\n",
       "    </tr>\n",
       "  </thead>\n",
       "  <tbody>\n",
       "    <tr>\n",
       "      <th>1</th>\n",
       "      <td>ATENÇÃO BÁSICA</td>\n",
       "      <td>2572117.87</td>\n",
       "      <td>0.0</td>\n",
       "      <td>2572117.87</td>\n",
       "      <td>2012</td>\n",
       "      <td>110001</td>\n",
       "      <td>Alta Floresta D'Oeste</td>\n",
       "      <td>Rondônia</td>\n",
       "    </tr>\n",
       "    <tr>\n",
       "      <th>1</th>\n",
       "      <td>ATENÇÃO BÁSICA</td>\n",
       "      <td>2572117.87</td>\n",
       "      <td>0.0</td>\n",
       "      <td>2572117.87</td>\n",
       "      <td>2012</td>\n",
       "      <td>110001</td>\n",
       "      <td>Alta Floresta D'Oeste</td>\n",
       "      <td>Rondônia</td>\n",
       "    </tr>\n",
       "    <tr>\n",
       "      <th>1</th>\n",
       "      <td>ATENÇÃO BÁSICA</td>\n",
       "      <td>2572117.87</td>\n",
       "      <td>0.0</td>\n",
       "      <td>2572117.87</td>\n",
       "      <td>2012</td>\n",
       "      <td>110001</td>\n",
       "      <td>Alta Floresta D'Oeste</td>\n",
       "      <td>Rondônia</td>\n",
       "    </tr>\n",
       "    <tr>\n",
       "      <th>1</th>\n",
       "      <td>ATENÇÃO BÁSICA</td>\n",
       "      <td>2572117.87</td>\n",
       "      <td>0.0</td>\n",
       "      <td>2572117.87</td>\n",
       "      <td>2012</td>\n",
       "      <td>110001</td>\n",
       "      <td>Alta Floresta D'Oeste</td>\n",
       "      <td>Rondônia</td>\n",
       "    </tr>\n",
       "    <tr>\n",
       "      <th>1</th>\n",
       "      <td>ATENÇÃO BÁSICA</td>\n",
       "      <td>2572117.87</td>\n",
       "      <td>0.0</td>\n",
       "      <td>2572117.87</td>\n",
       "      <td>2012</td>\n",
       "      <td>110001</td>\n",
       "      <td>Alta Floresta D'Oeste</td>\n",
       "      <td>Rondônia</td>\n",
       "    </tr>\n",
       "  </tbody>\n",
       "</table>\n",
       "</div>"
      ],
      "text/plain": [
       "             nome     vlTotal  vlDesconto   vlLiquido   ANO    code  \\\n",
       "1  ATENÇÃO BÁSICA  2572117.87         0.0  2572117.87  2012  110001   \n",
       "1  ATENÇÃO BÁSICA  2572117.87         0.0  2572117.87  2012  110001   \n",
       "1  ATENÇÃO BÁSICA  2572117.87         0.0  2572117.87  2012  110001   \n",
       "1  ATENÇÃO BÁSICA  2572117.87         0.0  2572117.87  2012  110001   \n",
       "1  ATENÇÃO BÁSICA  2572117.87         0.0  2572117.87  2012  110001   \n",
       "\n",
       "                    city     state  \n",
       "1  Alta Floresta D'Oeste  Rondônia  \n",
       "1  Alta Floresta D'Oeste  Rondônia  \n",
       "1  Alta Floresta D'Oeste  Rondônia  \n",
       "1  Alta Floresta D'Oeste  Rondônia  \n",
       "1  Alta Floresta D'Oeste  Rondônia  "
      ]
     },
     "execution_count": 12,
     "metadata": {},
     "output_type": "execute_result"
    }
   ],
   "source": [
    "ab12 = df_new[(df_new['nome'] =='ATENÇÃO BÁSICA') & (df_new['ANO'] == 2012)]\n",
    "ab12.head()    "
   ]
  },
  {
   "cell_type": "code",
   "execution_count": 13,
   "metadata": {},
   "outputs": [
    {
     "data": {
      "text/plain": [
       "2012    111087\n",
       "Name: ANO, dtype: int64"
      ]
     },
     "execution_count": 13,
     "metadata": {},
     "output_type": "execute_result"
    }
   ],
   "source": [
    "ab12['ANO'].value_counts()"
   ]
  },
  {
   "cell_type": "code",
   "execution_count": 59,
   "metadata": {},
   "outputs": [
    {
     "data": {
      "text/plain": [
       "266531092832.0"
      ]
     },
     "execution_count": 59,
     "metadata": {},
     "output_type": "execute_result"
    }
   ],
   "source": [
    "ab12['vlTotal'].sum().round()"
   ]
  },
  {
   "cell_type": "code",
   "execution_count": 61,
   "metadata": {},
   "outputs": [
    {
     "data": {
      "text/plain": [
       "29.145532841065"
      ]
     },
     "execution_count": 61,
     "metadata": {},
     "output_type": "execute_result"
    }
   ],
   "source": [
    "### variação percentual  valor final2017 - valor inicial2012/ valor2012 multiplicado por 100\n",
    "\n",
    "(344213000025.0 - 266531092832.0 )/266531092832.*100\n"
   ]
  },
  {
   "cell_type": "markdown",
   "metadata": {},
   "source": [
    "#### Entre 2012 e 2017 os repasses para a rede_ab do SUS feitos pelo governo federal foram de 29%"
   ]
  },
  {
   "cell_type": "code",
   "execution_count": 15,
   "metadata": {},
   "outputs": [
    {
     "data": {
      "text/html": [
       "<div>\n",
       "<style scoped>\n",
       "    .dataframe tbody tr th:only-of-type {\n",
       "        vertical-align: middle;\n",
       "    }\n",
       "\n",
       "    .dataframe tbody tr th {\n",
       "        vertical-align: top;\n",
       "    }\n",
       "\n",
       "    .dataframe thead th {\n",
       "        text-align: right;\n",
       "    }\n",
       "</style>\n",
       "<table border=\"1\" class=\"dataframe\">\n",
       "  <thead>\n",
       "    <tr style=\"text-align: right;\">\n",
       "      <th></th>\n",
       "      <th>nome</th>\n",
       "      <th>vlTotal</th>\n",
       "      <th>vlDesconto</th>\n",
       "      <th>vlLiquido</th>\n",
       "      <th>ANO</th>\n",
       "      <th>code</th>\n",
       "      <th>city</th>\n",
       "      <th>state</th>\n",
       "    </tr>\n",
       "  </thead>\n",
       "  <tbody>\n",
       "    <tr>\n",
       "      <th>23458</th>\n",
       "      <td>ATENÇÃO BÁSICA</td>\n",
       "      <td>642090.01</td>\n",
       "      <td>0.0</td>\n",
       "      <td>642090.01</td>\n",
       "      <td>2012</td>\n",
       "      <td>520005</td>\n",
       "      <td>Abadia de Goiás</td>\n",
       "      <td>Goiás</td>\n",
       "    </tr>\n",
       "    <tr>\n",
       "      <th>23458</th>\n",
       "      <td>ATENÇÃO BÁSICA</td>\n",
       "      <td>642090.01</td>\n",
       "      <td>0.0</td>\n",
       "      <td>642090.01</td>\n",
       "      <td>2012</td>\n",
       "      <td>520005</td>\n",
       "      <td>Abadia de Goiás</td>\n",
       "      <td>Goiás</td>\n",
       "    </tr>\n",
       "    <tr>\n",
       "      <th>23458</th>\n",
       "      <td>ATENÇÃO BÁSICA</td>\n",
       "      <td>642090.01</td>\n",
       "      <td>0.0</td>\n",
       "      <td>642090.01</td>\n",
       "      <td>2012</td>\n",
       "      <td>520005</td>\n",
       "      <td>Abadia de Goiás</td>\n",
       "      <td>Goiás</td>\n",
       "    </tr>\n",
       "    <tr>\n",
       "      <th>23458</th>\n",
       "      <td>ATENÇÃO BÁSICA</td>\n",
       "      <td>642090.01</td>\n",
       "      <td>0.0</td>\n",
       "      <td>642090.01</td>\n",
       "      <td>2012</td>\n",
       "      <td>520005</td>\n",
       "      <td>Abadia de Goiás</td>\n",
       "      <td>Goiás</td>\n",
       "    </tr>\n",
       "    <tr>\n",
       "      <th>23458</th>\n",
       "      <td>ATENÇÃO BÁSICA</td>\n",
       "      <td>642090.01</td>\n",
       "      <td>0.0</td>\n",
       "      <td>642090.01</td>\n",
       "      <td>2012</td>\n",
       "      <td>520005</td>\n",
       "      <td>Abadia de Goiás</td>\n",
       "      <td>Goiás</td>\n",
       "    </tr>\n",
       "    <tr>\n",
       "      <th>23458</th>\n",
       "      <td>ATENÇÃO BÁSICA</td>\n",
       "      <td>642090.01</td>\n",
       "      <td>0.0</td>\n",
       "      <td>642090.01</td>\n",
       "      <td>2012</td>\n",
       "      <td>520005</td>\n",
       "      <td>Abadia de Goiás</td>\n",
       "      <td>Goiás</td>\n",
       "    </tr>\n",
       "    <tr>\n",
       "      <th>23458</th>\n",
       "      <td>ATENÇÃO BÁSICA</td>\n",
       "      <td>642090.01</td>\n",
       "      <td>0.0</td>\n",
       "      <td>642090.01</td>\n",
       "      <td>2012</td>\n",
       "      <td>520005</td>\n",
       "      <td>Abadia de Goiás</td>\n",
       "      <td>Goiás</td>\n",
       "    </tr>\n",
       "    <tr>\n",
       "      <th>23458</th>\n",
       "      <td>ATENÇÃO BÁSICA</td>\n",
       "      <td>642090.01</td>\n",
       "      <td>0.0</td>\n",
       "      <td>642090.01</td>\n",
       "      <td>2012</td>\n",
       "      <td>520005</td>\n",
       "      <td>Abadia de Goiás</td>\n",
       "      <td>Goiás</td>\n",
       "    </tr>\n",
       "    <tr>\n",
       "      <th>23458</th>\n",
       "      <td>ATENÇÃO BÁSICA</td>\n",
       "      <td>642090.01</td>\n",
       "      <td>0.0</td>\n",
       "      <td>642090.01</td>\n",
       "      <td>2012</td>\n",
       "      <td>520005</td>\n",
       "      <td>Abadia de Goiás</td>\n",
       "      <td>Goiás</td>\n",
       "    </tr>\n",
       "    <tr>\n",
       "      <th>23458</th>\n",
       "      <td>ATENÇÃO BÁSICA</td>\n",
       "      <td>642090.01</td>\n",
       "      <td>0.0</td>\n",
       "      <td>642090.01</td>\n",
       "      <td>2012</td>\n",
       "      <td>520005</td>\n",
       "      <td>Abadia de Goiás</td>\n",
       "      <td>Goiás</td>\n",
       "    </tr>\n",
       "    <tr>\n",
       "      <th>23458</th>\n",
       "      <td>ATENÇÃO BÁSICA</td>\n",
       "      <td>642090.01</td>\n",
       "      <td>0.0</td>\n",
       "      <td>642090.01</td>\n",
       "      <td>2012</td>\n",
       "      <td>520005</td>\n",
       "      <td>Abadia de Goiás</td>\n",
       "      <td>Goiás</td>\n",
       "    </tr>\n",
       "    <tr>\n",
       "      <th>23458</th>\n",
       "      <td>ATENÇÃO BÁSICA</td>\n",
       "      <td>642090.01</td>\n",
       "      <td>0.0</td>\n",
       "      <td>642090.01</td>\n",
       "      <td>2012</td>\n",
       "      <td>520005</td>\n",
       "      <td>Abadia de Goiás</td>\n",
       "      <td>Goiás</td>\n",
       "    </tr>\n",
       "    <tr>\n",
       "      <th>23458</th>\n",
       "      <td>ATENÇÃO BÁSICA</td>\n",
       "      <td>642090.01</td>\n",
       "      <td>0.0</td>\n",
       "      <td>642090.01</td>\n",
       "      <td>2012</td>\n",
       "      <td>520005</td>\n",
       "      <td>Abadia de Goiás</td>\n",
       "      <td>Goiás</td>\n",
       "    </tr>\n",
       "    <tr>\n",
       "      <th>23458</th>\n",
       "      <td>ATENÇÃO BÁSICA</td>\n",
       "      <td>642090.01</td>\n",
       "      <td>0.0</td>\n",
       "      <td>642090.01</td>\n",
       "      <td>2012</td>\n",
       "      <td>520005</td>\n",
       "      <td>Abadia de Goiás</td>\n",
       "      <td>Goiás</td>\n",
       "    </tr>\n",
       "    <tr>\n",
       "      <th>23458</th>\n",
       "      <td>ATENÇÃO BÁSICA</td>\n",
       "      <td>642090.01</td>\n",
       "      <td>0.0</td>\n",
       "      <td>642090.01</td>\n",
       "      <td>2012</td>\n",
       "      <td>520005</td>\n",
       "      <td>Abadia de Goiás</td>\n",
       "      <td>Goiás</td>\n",
       "    </tr>\n",
       "    <tr>\n",
       "      <th>23458</th>\n",
       "      <td>ATENÇÃO BÁSICA</td>\n",
       "      <td>642090.01</td>\n",
       "      <td>0.0</td>\n",
       "      <td>642090.01</td>\n",
       "      <td>2012</td>\n",
       "      <td>520005</td>\n",
       "      <td>Abadia de Goiás</td>\n",
       "      <td>Goiás</td>\n",
       "    </tr>\n",
       "    <tr>\n",
       "      <th>23458</th>\n",
       "      <td>ATENÇÃO BÁSICA</td>\n",
       "      <td>642090.01</td>\n",
       "      <td>0.0</td>\n",
       "      <td>642090.01</td>\n",
       "      <td>2012</td>\n",
       "      <td>520005</td>\n",
       "      <td>Abadia de Goiás</td>\n",
       "      <td>Goiás</td>\n",
       "    </tr>\n",
       "    <tr>\n",
       "      <th>23458</th>\n",
       "      <td>ATENÇÃO BÁSICA</td>\n",
       "      <td>642090.01</td>\n",
       "      <td>0.0</td>\n",
       "      <td>642090.01</td>\n",
       "      <td>2012</td>\n",
       "      <td>520005</td>\n",
       "      <td>Abadia de Goiás</td>\n",
       "      <td>Goiás</td>\n",
       "    </tr>\n",
       "    <tr>\n",
       "      <th>23458</th>\n",
       "      <td>ATENÇÃO BÁSICA</td>\n",
       "      <td>642090.01</td>\n",
       "      <td>0.0</td>\n",
       "      <td>642090.01</td>\n",
       "      <td>2012</td>\n",
       "      <td>520005</td>\n",
       "      <td>Abadia de Goiás</td>\n",
       "      <td>Goiás</td>\n",
       "    </tr>\n",
       "    <tr>\n",
       "      <th>23458</th>\n",
       "      <td>ATENÇÃO BÁSICA</td>\n",
       "      <td>642090.01</td>\n",
       "      <td>0.0</td>\n",
       "      <td>642090.01</td>\n",
       "      <td>2012</td>\n",
       "      <td>520005</td>\n",
       "      <td>Abadia de Goiás</td>\n",
       "      <td>Goiás</td>\n",
       "    </tr>\n",
       "    <tr>\n",
       "      <th>10388</th>\n",
       "      <td>ATENÇÃO BÁSICA</td>\n",
       "      <td>509215.29</td>\n",
       "      <td>0.0</td>\n",
       "      <td>509215.29</td>\n",
       "      <td>2012</td>\n",
       "      <td>310010</td>\n",
       "      <td>Abadia dos Dourados</td>\n",
       "      <td>Minas Gerais</td>\n",
       "    </tr>\n",
       "    <tr>\n",
       "      <th>10388</th>\n",
       "      <td>ATENÇÃO BÁSICA</td>\n",
       "      <td>509215.29</td>\n",
       "      <td>0.0</td>\n",
       "      <td>509215.29</td>\n",
       "      <td>2012</td>\n",
       "      <td>310010</td>\n",
       "      <td>Abadia dos Dourados</td>\n",
       "      <td>Minas Gerais</td>\n",
       "    </tr>\n",
       "    <tr>\n",
       "      <th>10388</th>\n",
       "      <td>ATENÇÃO BÁSICA</td>\n",
       "      <td>509215.29</td>\n",
       "      <td>0.0</td>\n",
       "      <td>509215.29</td>\n",
       "      <td>2012</td>\n",
       "      <td>310010</td>\n",
       "      <td>Abadia dos Dourados</td>\n",
       "      <td>Minas Gerais</td>\n",
       "    </tr>\n",
       "    <tr>\n",
       "      <th>10388</th>\n",
       "      <td>ATENÇÃO BÁSICA</td>\n",
       "      <td>509215.29</td>\n",
       "      <td>0.0</td>\n",
       "      <td>509215.29</td>\n",
       "      <td>2012</td>\n",
       "      <td>310010</td>\n",
       "      <td>Abadia dos Dourados</td>\n",
       "      <td>Minas Gerais</td>\n",
       "    </tr>\n",
       "    <tr>\n",
       "      <th>10388</th>\n",
       "      <td>ATENÇÃO BÁSICA</td>\n",
       "      <td>509215.29</td>\n",
       "      <td>0.0</td>\n",
       "      <td>509215.29</td>\n",
       "      <td>2012</td>\n",
       "      <td>310010</td>\n",
       "      <td>Abadia dos Dourados</td>\n",
       "      <td>Minas Gerais</td>\n",
       "    </tr>\n",
       "    <tr>\n",
       "      <th>10388</th>\n",
       "      <td>ATENÇÃO BÁSICA</td>\n",
       "      <td>509215.29</td>\n",
       "      <td>0.0</td>\n",
       "      <td>509215.29</td>\n",
       "      <td>2012</td>\n",
       "      <td>310010</td>\n",
       "      <td>Abadia dos Dourados</td>\n",
       "      <td>Minas Gerais</td>\n",
       "    </tr>\n",
       "    <tr>\n",
       "      <th>10388</th>\n",
       "      <td>ATENÇÃO BÁSICA</td>\n",
       "      <td>509215.29</td>\n",
       "      <td>0.0</td>\n",
       "      <td>509215.29</td>\n",
       "      <td>2012</td>\n",
       "      <td>310010</td>\n",
       "      <td>Abadia dos Dourados</td>\n",
       "      <td>Minas Gerais</td>\n",
       "    </tr>\n",
       "    <tr>\n",
       "      <th>10388</th>\n",
       "      <td>ATENÇÃO BÁSICA</td>\n",
       "      <td>509215.29</td>\n",
       "      <td>0.0</td>\n",
       "      <td>509215.29</td>\n",
       "      <td>2012</td>\n",
       "      <td>310010</td>\n",
       "      <td>Abadia dos Dourados</td>\n",
       "      <td>Minas Gerais</td>\n",
       "    </tr>\n",
       "    <tr>\n",
       "      <th>10388</th>\n",
       "      <td>ATENÇÃO BÁSICA</td>\n",
       "      <td>509215.29</td>\n",
       "      <td>0.0</td>\n",
       "      <td>509215.29</td>\n",
       "      <td>2012</td>\n",
       "      <td>310010</td>\n",
       "      <td>Abadia dos Dourados</td>\n",
       "      <td>Minas Gerais</td>\n",
       "    </tr>\n",
       "    <tr>\n",
       "      <th>10388</th>\n",
       "      <td>ATENÇÃO BÁSICA</td>\n",
       "      <td>509215.29</td>\n",
       "      <td>0.0</td>\n",
       "      <td>509215.29</td>\n",
       "      <td>2012</td>\n",
       "      <td>310010</td>\n",
       "      <td>Abadia dos Dourados</td>\n",
       "      <td>Minas Gerais</td>\n",
       "    </tr>\n",
       "    <tr>\n",
       "      <th>...</th>\n",
       "      <td>...</td>\n",
       "      <td>...</td>\n",
       "      <td>...</td>\n",
       "      <td>...</td>\n",
       "      <td>...</td>\n",
       "      <td>...</td>\n",
       "      <td>...</td>\n",
       "      <td>...</td>\n",
       "    </tr>\n",
       "    <tr>\n",
       "      <th>1132</th>\n",
       "      <td>ATENÇÃO BÁSICA</td>\n",
       "      <td>3139485.31</td>\n",
       "      <td>0.0</td>\n",
       "      <td>3139485.31</td>\n",
       "      <td>2012</td>\n",
       "      <td>150510</td>\n",
       "      <td>Óbidos</td>\n",
       "      <td>Pará</td>\n",
       "    </tr>\n",
       "    <tr>\n",
       "      <th>1132</th>\n",
       "      <td>ATENÇÃO BÁSICA</td>\n",
       "      <td>3139485.31</td>\n",
       "      <td>0.0</td>\n",
       "      <td>3139485.31</td>\n",
       "      <td>2012</td>\n",
       "      <td>150510</td>\n",
       "      <td>Óbidos</td>\n",
       "      <td>Pará</td>\n",
       "    </tr>\n",
       "    <tr>\n",
       "      <th>1132</th>\n",
       "      <td>ATENÇÃO BÁSICA</td>\n",
       "      <td>3139485.31</td>\n",
       "      <td>0.0</td>\n",
       "      <td>3139485.31</td>\n",
       "      <td>2012</td>\n",
       "      <td>150510</td>\n",
       "      <td>Óbidos</td>\n",
       "      <td>Pará</td>\n",
       "    </tr>\n",
       "    <tr>\n",
       "      <th>1132</th>\n",
       "      <td>ATENÇÃO BÁSICA</td>\n",
       "      <td>3139485.31</td>\n",
       "      <td>0.0</td>\n",
       "      <td>3139485.31</td>\n",
       "      <td>2012</td>\n",
       "      <td>150510</td>\n",
       "      <td>Óbidos</td>\n",
       "      <td>Pará</td>\n",
       "    </tr>\n",
       "    <tr>\n",
       "      <th>1132</th>\n",
       "      <td>ATENÇÃO BÁSICA</td>\n",
       "      <td>3139485.31</td>\n",
       "      <td>0.0</td>\n",
       "      <td>3139485.31</td>\n",
       "      <td>2012</td>\n",
       "      <td>150510</td>\n",
       "      <td>Óbidos</td>\n",
       "      <td>Pará</td>\n",
       "    </tr>\n",
       "    <tr>\n",
       "      <th>1132</th>\n",
       "      <td>ATENÇÃO BÁSICA</td>\n",
       "      <td>3139485.31</td>\n",
       "      <td>0.0</td>\n",
       "      <td>3139485.31</td>\n",
       "      <td>2012</td>\n",
       "      <td>150510</td>\n",
       "      <td>Óbidos</td>\n",
       "      <td>Pará</td>\n",
       "    </tr>\n",
       "    <tr>\n",
       "      <th>1132</th>\n",
       "      <td>ATENÇÃO BÁSICA</td>\n",
       "      <td>3139485.31</td>\n",
       "      <td>0.0</td>\n",
       "      <td>3139485.31</td>\n",
       "      <td>2012</td>\n",
       "      <td>150510</td>\n",
       "      <td>Óbidos</td>\n",
       "      <td>Pará</td>\n",
       "    </tr>\n",
       "    <tr>\n",
       "      <th>1132</th>\n",
       "      <td>ATENÇÃO BÁSICA</td>\n",
       "      <td>3139485.31</td>\n",
       "      <td>0.0</td>\n",
       "      <td>3139485.31</td>\n",
       "      <td>2012</td>\n",
       "      <td>150510</td>\n",
       "      <td>Óbidos</td>\n",
       "      <td>Pará</td>\n",
       "    </tr>\n",
       "    <tr>\n",
       "      <th>1132</th>\n",
       "      <td>ATENÇÃO BÁSICA</td>\n",
       "      <td>3139485.31</td>\n",
       "      <td>0.0</td>\n",
       "      <td>3139485.31</td>\n",
       "      <td>2012</td>\n",
       "      <td>150510</td>\n",
       "      <td>Óbidos</td>\n",
       "      <td>Pará</td>\n",
       "    </tr>\n",
       "    <tr>\n",
       "      <th>1132</th>\n",
       "      <td>ATENÇÃO BÁSICA</td>\n",
       "      <td>3139485.31</td>\n",
       "      <td>0.0</td>\n",
       "      <td>3139485.31</td>\n",
       "      <td>2012</td>\n",
       "      <td>150510</td>\n",
       "      <td>Óbidos</td>\n",
       "      <td>Pará</td>\n",
       "    </tr>\n",
       "    <tr>\n",
       "      <th>15997</th>\n",
       "      <td>ATENÇÃO BÁSICA</td>\n",
       "      <td>89662.09</td>\n",
       "      <td>0.0</td>\n",
       "      <td>89662.09</td>\n",
       "      <td>2012</td>\n",
       "      <td>353380</td>\n",
       "      <td>Óleo</td>\n",
       "      <td>São Paulo</td>\n",
       "    </tr>\n",
       "    <tr>\n",
       "      <th>15997</th>\n",
       "      <td>ATENÇÃO BÁSICA</td>\n",
       "      <td>89662.09</td>\n",
       "      <td>0.0</td>\n",
       "      <td>89662.09</td>\n",
       "      <td>2012</td>\n",
       "      <td>353380</td>\n",
       "      <td>Óleo</td>\n",
       "      <td>São Paulo</td>\n",
       "    </tr>\n",
       "    <tr>\n",
       "      <th>15997</th>\n",
       "      <td>ATENÇÃO BÁSICA</td>\n",
       "      <td>89662.09</td>\n",
       "      <td>0.0</td>\n",
       "      <td>89662.09</td>\n",
       "      <td>2012</td>\n",
       "      <td>353380</td>\n",
       "      <td>Óleo</td>\n",
       "      <td>São Paulo</td>\n",
       "    </tr>\n",
       "    <tr>\n",
       "      <th>15997</th>\n",
       "      <td>ATENÇÃO BÁSICA</td>\n",
       "      <td>89662.09</td>\n",
       "      <td>0.0</td>\n",
       "      <td>89662.09</td>\n",
       "      <td>2012</td>\n",
       "      <td>353380</td>\n",
       "      <td>Óleo</td>\n",
       "      <td>São Paulo</td>\n",
       "    </tr>\n",
       "    <tr>\n",
       "      <th>15997</th>\n",
       "      <td>ATENÇÃO BÁSICA</td>\n",
       "      <td>89662.09</td>\n",
       "      <td>0.0</td>\n",
       "      <td>89662.09</td>\n",
       "      <td>2012</td>\n",
       "      <td>353380</td>\n",
       "      <td>Óleo</td>\n",
       "      <td>São Paulo</td>\n",
       "    </tr>\n",
       "    <tr>\n",
       "      <th>15997</th>\n",
       "      <td>ATENÇÃO BÁSICA</td>\n",
       "      <td>89662.09</td>\n",
       "      <td>0.0</td>\n",
       "      <td>89662.09</td>\n",
       "      <td>2012</td>\n",
       "      <td>353380</td>\n",
       "      <td>Óleo</td>\n",
       "      <td>São Paulo</td>\n",
       "    </tr>\n",
       "    <tr>\n",
       "      <th>15997</th>\n",
       "      <td>ATENÇÃO BÁSICA</td>\n",
       "      <td>89662.09</td>\n",
       "      <td>0.0</td>\n",
       "      <td>89662.09</td>\n",
       "      <td>2012</td>\n",
       "      <td>353380</td>\n",
       "      <td>Óleo</td>\n",
       "      <td>São Paulo</td>\n",
       "    </tr>\n",
       "    <tr>\n",
       "      <th>15997</th>\n",
       "      <td>ATENÇÃO BÁSICA</td>\n",
       "      <td>89662.09</td>\n",
       "      <td>0.0</td>\n",
       "      <td>89662.09</td>\n",
       "      <td>2012</td>\n",
       "      <td>353380</td>\n",
       "      <td>Óleo</td>\n",
       "      <td>São Paulo</td>\n",
       "    </tr>\n",
       "    <tr>\n",
       "      <th>15997</th>\n",
       "      <td>ATENÇÃO BÁSICA</td>\n",
       "      <td>89662.09</td>\n",
       "      <td>0.0</td>\n",
       "      <td>89662.09</td>\n",
       "      <td>2012</td>\n",
       "      <td>353380</td>\n",
       "      <td>Óleo</td>\n",
       "      <td>São Paulo</td>\n",
       "    </tr>\n",
       "    <tr>\n",
       "      <th>15997</th>\n",
       "      <td>ATENÇÃO BÁSICA</td>\n",
       "      <td>89662.09</td>\n",
       "      <td>0.0</td>\n",
       "      <td>89662.09</td>\n",
       "      <td>2012</td>\n",
       "      <td>353380</td>\n",
       "      <td>Óleo</td>\n",
       "      <td>São Paulo</td>\n",
       "    </tr>\n",
       "    <tr>\n",
       "      <th>15997</th>\n",
       "      <td>ATENÇÃO BÁSICA</td>\n",
       "      <td>89662.09</td>\n",
       "      <td>0.0</td>\n",
       "      <td>89662.09</td>\n",
       "      <td>2012</td>\n",
       "      <td>353380</td>\n",
       "      <td>Óleo</td>\n",
       "      <td>São Paulo</td>\n",
       "    </tr>\n",
       "    <tr>\n",
       "      <th>15997</th>\n",
       "      <td>ATENÇÃO BÁSICA</td>\n",
       "      <td>89662.09</td>\n",
       "      <td>0.0</td>\n",
       "      <td>89662.09</td>\n",
       "      <td>2012</td>\n",
       "      <td>353380</td>\n",
       "      <td>Óleo</td>\n",
       "      <td>São Paulo</td>\n",
       "    </tr>\n",
       "    <tr>\n",
       "      <th>15997</th>\n",
       "      <td>ATENÇÃO BÁSICA</td>\n",
       "      <td>89662.09</td>\n",
       "      <td>0.0</td>\n",
       "      <td>89662.09</td>\n",
       "      <td>2012</td>\n",
       "      <td>353380</td>\n",
       "      <td>Óleo</td>\n",
       "      <td>São Paulo</td>\n",
       "    </tr>\n",
       "    <tr>\n",
       "      <th>15997</th>\n",
       "      <td>ATENÇÃO BÁSICA</td>\n",
       "      <td>89662.09</td>\n",
       "      <td>0.0</td>\n",
       "      <td>89662.09</td>\n",
       "      <td>2012</td>\n",
       "      <td>353380</td>\n",
       "      <td>Óleo</td>\n",
       "      <td>São Paulo</td>\n",
       "    </tr>\n",
       "    <tr>\n",
       "      <th>15997</th>\n",
       "      <td>ATENÇÃO BÁSICA</td>\n",
       "      <td>89662.09</td>\n",
       "      <td>0.0</td>\n",
       "      <td>89662.09</td>\n",
       "      <td>2012</td>\n",
       "      <td>353380</td>\n",
       "      <td>Óleo</td>\n",
       "      <td>São Paulo</td>\n",
       "    </tr>\n",
       "    <tr>\n",
       "      <th>15997</th>\n",
       "      <td>ATENÇÃO BÁSICA</td>\n",
       "      <td>89662.09</td>\n",
       "      <td>0.0</td>\n",
       "      <td>89662.09</td>\n",
       "      <td>2012</td>\n",
       "      <td>353380</td>\n",
       "      <td>Óleo</td>\n",
       "      <td>São Paulo</td>\n",
       "    </tr>\n",
       "    <tr>\n",
       "      <th>15997</th>\n",
       "      <td>ATENÇÃO BÁSICA</td>\n",
       "      <td>89662.09</td>\n",
       "      <td>0.0</td>\n",
       "      <td>89662.09</td>\n",
       "      <td>2012</td>\n",
       "      <td>353380</td>\n",
       "      <td>Óleo</td>\n",
       "      <td>São Paulo</td>\n",
       "    </tr>\n",
       "    <tr>\n",
       "      <th>15997</th>\n",
       "      <td>ATENÇÃO BÁSICA</td>\n",
       "      <td>89662.09</td>\n",
       "      <td>0.0</td>\n",
       "      <td>89662.09</td>\n",
       "      <td>2012</td>\n",
       "      <td>353380</td>\n",
       "      <td>Óleo</td>\n",
       "      <td>São Paulo</td>\n",
       "    </tr>\n",
       "    <tr>\n",
       "      <th>15997</th>\n",
       "      <td>ATENÇÃO BÁSICA</td>\n",
       "      <td>89662.09</td>\n",
       "      <td>0.0</td>\n",
       "      <td>89662.09</td>\n",
       "      <td>2012</td>\n",
       "      <td>353380</td>\n",
       "      <td>Óleo</td>\n",
       "      <td>São Paulo</td>\n",
       "    </tr>\n",
       "    <tr>\n",
       "      <th>15997</th>\n",
       "      <td>ATENÇÃO BÁSICA</td>\n",
       "      <td>89662.09</td>\n",
       "      <td>0.0</td>\n",
       "      <td>89662.09</td>\n",
       "      <td>2012</td>\n",
       "      <td>353380</td>\n",
       "      <td>Óleo</td>\n",
       "      <td>São Paulo</td>\n",
       "    </tr>\n",
       "  </tbody>\n",
       "</table>\n",
       "<p>105676 rows × 8 columns</p>\n",
       "</div>"
      ],
      "text/plain": [
       "                 nome     vlTotal  vlDesconto   vlLiquido   ANO    code  \\\n",
       "23458  ATENÇÃO BÁSICA   642090.01         0.0   642090.01  2012  520005   \n",
       "23458  ATENÇÃO BÁSICA   642090.01         0.0   642090.01  2012  520005   \n",
       "23458  ATENÇÃO BÁSICA   642090.01         0.0   642090.01  2012  520005   \n",
       "23458  ATENÇÃO BÁSICA   642090.01         0.0   642090.01  2012  520005   \n",
       "23458  ATENÇÃO BÁSICA   642090.01         0.0   642090.01  2012  520005   \n",
       "23458  ATENÇÃO BÁSICA   642090.01         0.0   642090.01  2012  520005   \n",
       "23458  ATENÇÃO BÁSICA   642090.01         0.0   642090.01  2012  520005   \n",
       "23458  ATENÇÃO BÁSICA   642090.01         0.0   642090.01  2012  520005   \n",
       "23458  ATENÇÃO BÁSICA   642090.01         0.0   642090.01  2012  520005   \n",
       "23458  ATENÇÃO BÁSICA   642090.01         0.0   642090.01  2012  520005   \n",
       "23458  ATENÇÃO BÁSICA   642090.01         0.0   642090.01  2012  520005   \n",
       "23458  ATENÇÃO BÁSICA   642090.01         0.0   642090.01  2012  520005   \n",
       "23458  ATENÇÃO BÁSICA   642090.01         0.0   642090.01  2012  520005   \n",
       "23458  ATENÇÃO BÁSICA   642090.01         0.0   642090.01  2012  520005   \n",
       "23458  ATENÇÃO BÁSICA   642090.01         0.0   642090.01  2012  520005   \n",
       "23458  ATENÇÃO BÁSICA   642090.01         0.0   642090.01  2012  520005   \n",
       "23458  ATENÇÃO BÁSICA   642090.01         0.0   642090.01  2012  520005   \n",
       "23458  ATENÇÃO BÁSICA   642090.01         0.0   642090.01  2012  520005   \n",
       "23458  ATENÇÃO BÁSICA   642090.01         0.0   642090.01  2012  520005   \n",
       "23458  ATENÇÃO BÁSICA   642090.01         0.0   642090.01  2012  520005   \n",
       "10388  ATENÇÃO BÁSICA   509215.29         0.0   509215.29  2012  310010   \n",
       "10388  ATENÇÃO BÁSICA   509215.29         0.0   509215.29  2012  310010   \n",
       "10388  ATENÇÃO BÁSICA   509215.29         0.0   509215.29  2012  310010   \n",
       "10388  ATENÇÃO BÁSICA   509215.29         0.0   509215.29  2012  310010   \n",
       "10388  ATENÇÃO BÁSICA   509215.29         0.0   509215.29  2012  310010   \n",
       "10388  ATENÇÃO BÁSICA   509215.29         0.0   509215.29  2012  310010   \n",
       "10388  ATENÇÃO BÁSICA   509215.29         0.0   509215.29  2012  310010   \n",
       "10388  ATENÇÃO BÁSICA   509215.29         0.0   509215.29  2012  310010   \n",
       "10388  ATENÇÃO BÁSICA   509215.29         0.0   509215.29  2012  310010   \n",
       "10388  ATENÇÃO BÁSICA   509215.29         0.0   509215.29  2012  310010   \n",
       "...               ...         ...         ...         ...   ...     ...   \n",
       "1132   ATENÇÃO BÁSICA  3139485.31         0.0  3139485.31  2012  150510   \n",
       "1132   ATENÇÃO BÁSICA  3139485.31         0.0  3139485.31  2012  150510   \n",
       "1132   ATENÇÃO BÁSICA  3139485.31         0.0  3139485.31  2012  150510   \n",
       "1132   ATENÇÃO BÁSICA  3139485.31         0.0  3139485.31  2012  150510   \n",
       "1132   ATENÇÃO BÁSICA  3139485.31         0.0  3139485.31  2012  150510   \n",
       "1132   ATENÇÃO BÁSICA  3139485.31         0.0  3139485.31  2012  150510   \n",
       "1132   ATENÇÃO BÁSICA  3139485.31         0.0  3139485.31  2012  150510   \n",
       "1132   ATENÇÃO BÁSICA  3139485.31         0.0  3139485.31  2012  150510   \n",
       "1132   ATENÇÃO BÁSICA  3139485.31         0.0  3139485.31  2012  150510   \n",
       "1132   ATENÇÃO BÁSICA  3139485.31         0.0  3139485.31  2012  150510   \n",
       "15997  ATENÇÃO BÁSICA    89662.09         0.0    89662.09  2012  353380   \n",
       "15997  ATENÇÃO BÁSICA    89662.09         0.0    89662.09  2012  353380   \n",
       "15997  ATENÇÃO BÁSICA    89662.09         0.0    89662.09  2012  353380   \n",
       "15997  ATENÇÃO BÁSICA    89662.09         0.0    89662.09  2012  353380   \n",
       "15997  ATENÇÃO BÁSICA    89662.09         0.0    89662.09  2012  353380   \n",
       "15997  ATENÇÃO BÁSICA    89662.09         0.0    89662.09  2012  353380   \n",
       "15997  ATENÇÃO BÁSICA    89662.09         0.0    89662.09  2012  353380   \n",
       "15997  ATENÇÃO BÁSICA    89662.09         0.0    89662.09  2012  353380   \n",
       "15997  ATENÇÃO BÁSICA    89662.09         0.0    89662.09  2012  353380   \n",
       "15997  ATENÇÃO BÁSICA    89662.09         0.0    89662.09  2012  353380   \n",
       "15997  ATENÇÃO BÁSICA    89662.09         0.0    89662.09  2012  353380   \n",
       "15997  ATENÇÃO BÁSICA    89662.09         0.0    89662.09  2012  353380   \n",
       "15997  ATENÇÃO BÁSICA    89662.09         0.0    89662.09  2012  353380   \n",
       "15997  ATENÇÃO BÁSICA    89662.09         0.0    89662.09  2012  353380   \n",
       "15997  ATENÇÃO BÁSICA    89662.09         0.0    89662.09  2012  353380   \n",
       "15997  ATENÇÃO BÁSICA    89662.09         0.0    89662.09  2012  353380   \n",
       "15997  ATENÇÃO BÁSICA    89662.09         0.0    89662.09  2012  353380   \n",
       "15997  ATENÇÃO BÁSICA    89662.09         0.0    89662.09  2012  353380   \n",
       "15997  ATENÇÃO BÁSICA    89662.09         0.0    89662.09  2012  353380   \n",
       "15997  ATENÇÃO BÁSICA    89662.09         0.0    89662.09  2012  353380   \n",
       "\n",
       "                      city         state  \n",
       "23458      Abadia de Goiás         Goiás  \n",
       "23458      Abadia de Goiás         Goiás  \n",
       "23458      Abadia de Goiás         Goiás  \n",
       "23458      Abadia de Goiás         Goiás  \n",
       "23458      Abadia de Goiás         Goiás  \n",
       "23458      Abadia de Goiás         Goiás  \n",
       "23458      Abadia de Goiás         Goiás  \n",
       "23458      Abadia de Goiás         Goiás  \n",
       "23458      Abadia de Goiás         Goiás  \n",
       "23458      Abadia de Goiás         Goiás  \n",
       "23458      Abadia de Goiás         Goiás  \n",
       "23458      Abadia de Goiás         Goiás  \n",
       "23458      Abadia de Goiás         Goiás  \n",
       "23458      Abadia de Goiás         Goiás  \n",
       "23458      Abadia de Goiás         Goiás  \n",
       "23458      Abadia de Goiás         Goiás  \n",
       "23458      Abadia de Goiás         Goiás  \n",
       "23458      Abadia de Goiás         Goiás  \n",
       "23458      Abadia de Goiás         Goiás  \n",
       "23458      Abadia de Goiás         Goiás  \n",
       "10388  Abadia dos Dourados  Minas Gerais  \n",
       "10388  Abadia dos Dourados  Minas Gerais  \n",
       "10388  Abadia dos Dourados  Minas Gerais  \n",
       "10388  Abadia dos Dourados  Minas Gerais  \n",
       "10388  Abadia dos Dourados  Minas Gerais  \n",
       "10388  Abadia dos Dourados  Minas Gerais  \n",
       "10388  Abadia dos Dourados  Minas Gerais  \n",
       "10388  Abadia dos Dourados  Minas Gerais  \n",
       "10388  Abadia dos Dourados  Minas Gerais  \n",
       "10388  Abadia dos Dourados  Minas Gerais  \n",
       "...                    ...           ...  \n",
       "1132                Óbidos          Pará  \n",
       "1132                Óbidos          Pará  \n",
       "1132                Óbidos          Pará  \n",
       "1132                Óbidos          Pará  \n",
       "1132                Óbidos          Pará  \n",
       "1132                Óbidos          Pará  \n",
       "1132                Óbidos          Pará  \n",
       "1132                Óbidos          Pará  \n",
       "1132                Óbidos          Pará  \n",
       "1132                Óbidos          Pará  \n",
       "15997                 Óleo     São Paulo  \n",
       "15997                 Óleo     São Paulo  \n",
       "15997                 Óleo     São Paulo  \n",
       "15997                 Óleo     São Paulo  \n",
       "15997                 Óleo     São Paulo  \n",
       "15997                 Óleo     São Paulo  \n",
       "15997                 Óleo     São Paulo  \n",
       "15997                 Óleo     São Paulo  \n",
       "15997                 Óleo     São Paulo  \n",
       "15997                 Óleo     São Paulo  \n",
       "15997                 Óleo     São Paulo  \n",
       "15997                 Óleo     São Paulo  \n",
       "15997                 Óleo     São Paulo  \n",
       "15997                 Óleo     São Paulo  \n",
       "15997                 Óleo     São Paulo  \n",
       "15997                 Óleo     São Paulo  \n",
       "15997                 Óleo     São Paulo  \n",
       "15997                 Óleo     São Paulo  \n",
       "15997                 Óleo     São Paulo  \n",
       "15997                 Óleo     São Paulo  \n",
       "\n",
       "[105676 rows x 8 columns]"
      ]
     },
     "execution_count": 15,
     "metadata": {},
     "output_type": "execute_result"
    }
   ],
   "source": [
    "#Mostrar todos os dados das cidade que mais receberam investimentos em 2012 \n",
    "ab12.loc[ab12.groupby('city')['vlTotal'].idxmax()]"
   ]
  },
  {
   "cell_type": "code",
   "execution_count": 16,
   "metadata": {},
   "outputs": [
    {
     "data": {
      "text/html": [
       "<div>\n",
       "<style scoped>\n",
       "    .dataframe tbody tr th:only-of-type {\n",
       "        vertical-align: middle;\n",
       "    }\n",
       "\n",
       "    .dataframe tbody tr th {\n",
       "        vertical-align: top;\n",
       "    }\n",
       "\n",
       "    .dataframe thead th {\n",
       "        text-align: right;\n",
       "    }\n",
       "</style>\n",
       "<table border=\"1\" class=\"dataframe\">\n",
       "  <thead>\n",
       "    <tr style=\"text-align: right;\">\n",
       "      <th></th>\n",
       "      <th>nome</th>\n",
       "      <th>vlTotal</th>\n",
       "      <th>vlDesconto</th>\n",
       "      <th>vlLiquido</th>\n",
       "      <th>ANO</th>\n",
       "      <th>code</th>\n",
       "      <th>city</th>\n",
       "      <th>state</th>\n",
       "    </tr>\n",
       "  </thead>\n",
       "  <tbody>\n",
       "    <tr>\n",
       "      <th>21163</th>\n",
       "      <td>ATENÇÃO BÁSICA</td>\n",
       "      <td>39748.5</td>\n",
       "      <td>0.0</td>\n",
       "      <td>39748.5</td>\n",
       "      <td>2012</td>\n",
       "      <td>431164</td>\n",
       "      <td>Linha Nova</td>\n",
       "      <td>Rio Grande do Sul</td>\n",
       "    </tr>\n",
       "    <tr>\n",
       "      <th>21163</th>\n",
       "      <td>ATENÇÃO BÁSICA</td>\n",
       "      <td>39748.5</td>\n",
       "      <td>0.0</td>\n",
       "      <td>39748.5</td>\n",
       "      <td>2012</td>\n",
       "      <td>431164</td>\n",
       "      <td>Linha Nova</td>\n",
       "      <td>Rio Grande do Sul</td>\n",
       "    </tr>\n",
       "    <tr>\n",
       "      <th>21163</th>\n",
       "      <td>ATENÇÃO BÁSICA</td>\n",
       "      <td>39748.5</td>\n",
       "      <td>0.0</td>\n",
       "      <td>39748.5</td>\n",
       "      <td>2012</td>\n",
       "      <td>431164</td>\n",
       "      <td>Linha Nova</td>\n",
       "      <td>Rio Grande do Sul</td>\n",
       "    </tr>\n",
       "    <tr>\n",
       "      <th>21163</th>\n",
       "      <td>ATENÇÃO BÁSICA</td>\n",
       "      <td>39748.5</td>\n",
       "      <td>0.0</td>\n",
       "      <td>39748.5</td>\n",
       "      <td>2012</td>\n",
       "      <td>431164</td>\n",
       "      <td>Linha Nova</td>\n",
       "      <td>Rio Grande do Sul</td>\n",
       "    </tr>\n",
       "    <tr>\n",
       "      <th>21163</th>\n",
       "      <td>ATENÇÃO BÁSICA</td>\n",
       "      <td>39748.5</td>\n",
       "      <td>0.0</td>\n",
       "      <td>39748.5</td>\n",
       "      <td>2012</td>\n",
       "      <td>431164</td>\n",
       "      <td>Linha Nova</td>\n",
       "      <td>Rio Grande do Sul</td>\n",
       "    </tr>\n",
       "    <tr>\n",
       "      <th>21163</th>\n",
       "      <td>ATENÇÃO BÁSICA</td>\n",
       "      <td>39748.5</td>\n",
       "      <td>0.0</td>\n",
       "      <td>39748.5</td>\n",
       "      <td>2012</td>\n",
       "      <td>431164</td>\n",
       "      <td>Linha Nova</td>\n",
       "      <td>Rio Grande do Sul</td>\n",
       "    </tr>\n",
       "    <tr>\n",
       "      <th>21163</th>\n",
       "      <td>ATENÇÃO BÁSICA</td>\n",
       "      <td>39748.5</td>\n",
       "      <td>0.0</td>\n",
       "      <td>39748.5</td>\n",
       "      <td>2012</td>\n",
       "      <td>431164</td>\n",
       "      <td>Linha Nova</td>\n",
       "      <td>Rio Grande do Sul</td>\n",
       "    </tr>\n",
       "    <tr>\n",
       "      <th>21163</th>\n",
       "      <td>ATENÇÃO BÁSICA</td>\n",
       "      <td>39748.5</td>\n",
       "      <td>0.0</td>\n",
       "      <td>39748.5</td>\n",
       "      <td>2012</td>\n",
       "      <td>431164</td>\n",
       "      <td>Linha Nova</td>\n",
       "      <td>Rio Grande do Sul</td>\n",
       "    </tr>\n",
       "    <tr>\n",
       "      <th>21163</th>\n",
       "      <td>ATENÇÃO BÁSICA</td>\n",
       "      <td>39748.5</td>\n",
       "      <td>0.0</td>\n",
       "      <td>39748.5</td>\n",
       "      <td>2012</td>\n",
       "      <td>431164</td>\n",
       "      <td>Linha Nova</td>\n",
       "      <td>Rio Grande do Sul</td>\n",
       "    </tr>\n",
       "    <tr>\n",
       "      <th>21163</th>\n",
       "      <td>ATENÇÃO BÁSICA</td>\n",
       "      <td>39748.5</td>\n",
       "      <td>0.0</td>\n",
       "      <td>39748.5</td>\n",
       "      <td>2012</td>\n",
       "      <td>431164</td>\n",
       "      <td>Linha Nova</td>\n",
       "      <td>Rio Grande do Sul</td>\n",
       "    </tr>\n",
       "  </tbody>\n",
       "</table>\n",
       "</div>"
      ],
      "text/plain": [
       "                 nome  vlTotal  vlDesconto  vlLiquido   ANO    code  \\\n",
       "21163  ATENÇÃO BÁSICA  39748.5         0.0    39748.5  2012  431164   \n",
       "21163  ATENÇÃO BÁSICA  39748.5         0.0    39748.5  2012  431164   \n",
       "21163  ATENÇÃO BÁSICA  39748.5         0.0    39748.5  2012  431164   \n",
       "21163  ATENÇÃO BÁSICA  39748.5         0.0    39748.5  2012  431164   \n",
       "21163  ATENÇÃO BÁSICA  39748.5         0.0    39748.5  2012  431164   \n",
       "21163  ATENÇÃO BÁSICA  39748.5         0.0    39748.5  2012  431164   \n",
       "21163  ATENÇÃO BÁSICA  39748.5         0.0    39748.5  2012  431164   \n",
       "21163  ATENÇÃO BÁSICA  39748.5         0.0    39748.5  2012  431164   \n",
       "21163  ATENÇÃO BÁSICA  39748.5         0.0    39748.5  2012  431164   \n",
       "21163  ATENÇÃO BÁSICA  39748.5         0.0    39748.5  2012  431164   \n",
       "\n",
       "             city              state  \n",
       "21163  Linha Nova  Rio Grande do Sul  \n",
       "21163  Linha Nova  Rio Grande do Sul  \n",
       "21163  Linha Nova  Rio Grande do Sul  \n",
       "21163  Linha Nova  Rio Grande do Sul  \n",
       "21163  Linha Nova  Rio Grande do Sul  \n",
       "21163  Linha Nova  Rio Grande do Sul  \n",
       "21163  Linha Nova  Rio Grande do Sul  \n",
       "21163  Linha Nova  Rio Grande do Sul  \n",
       "21163  Linha Nova  Rio Grande do Sul  \n",
       "21163  Linha Nova  Rio Grande do Sul  "
      ]
     },
     "execution_count": 16,
     "metadata": {},
     "output_type": "execute_result"
    }
   ],
   "source": [
    "ab12.nsmallest(10, 'vlTotal')"
   ]
  },
  {
   "cell_type": "code",
   "execution_count": 17,
   "metadata": {},
   "outputs": [
    {
     "data": {
      "text/html": [
       "<div>\n",
       "<style scoped>\n",
       "    .dataframe tbody tr th:only-of-type {\n",
       "        vertical-align: middle;\n",
       "    }\n",
       "\n",
       "    .dataframe tbody tr th {\n",
       "        vertical-align: top;\n",
       "    }\n",
       "\n",
       "    .dataframe thead th {\n",
       "        text-align: right;\n",
       "    }\n",
       "</style>\n",
       "<table border=\"1\" class=\"dataframe\">\n",
       "  <thead>\n",
       "    <tr style=\"text-align: right;\">\n",
       "      <th></th>\n",
       "      <th>nome</th>\n",
       "      <th>vlTotal</th>\n",
       "      <th>vlDesconto</th>\n",
       "      <th>vlLiquido</th>\n",
       "      <th>ANO</th>\n",
       "      <th>code</th>\n",
       "      <th>city</th>\n",
       "      <th>state</th>\n",
       "    </tr>\n",
       "  </thead>\n",
       "  <tbody>\n",
       "    <tr>\n",
       "      <th>16862</th>\n",
       "      <td>ATENÇÃO BÁSICA</td>\n",
       "      <td>4.725292e+08</td>\n",
       "      <td>0.0</td>\n",
       "      <td>4.725292e+08</td>\n",
       "      <td>2012</td>\n",
       "      <td>355030</td>\n",
       "      <td>São Paulo</td>\n",
       "      <td>São Paulo</td>\n",
       "    </tr>\n",
       "    <tr>\n",
       "      <th>16862</th>\n",
       "      <td>ATENÇÃO BÁSICA</td>\n",
       "      <td>4.725292e+08</td>\n",
       "      <td>0.0</td>\n",
       "      <td>4.725292e+08</td>\n",
       "      <td>2012</td>\n",
       "      <td>355030</td>\n",
       "      <td>São Paulo</td>\n",
       "      <td>São Paulo</td>\n",
       "    </tr>\n",
       "    <tr>\n",
       "      <th>16862</th>\n",
       "      <td>ATENÇÃO BÁSICA</td>\n",
       "      <td>4.725292e+08</td>\n",
       "      <td>0.0</td>\n",
       "      <td>4.725292e+08</td>\n",
       "      <td>2012</td>\n",
       "      <td>355030</td>\n",
       "      <td>São Paulo</td>\n",
       "      <td>São Paulo</td>\n",
       "    </tr>\n",
       "    <tr>\n",
       "      <th>16862</th>\n",
       "      <td>ATENÇÃO BÁSICA</td>\n",
       "      <td>4.725292e+08</td>\n",
       "      <td>0.0</td>\n",
       "      <td>4.725292e+08</td>\n",
       "      <td>2012</td>\n",
       "      <td>355030</td>\n",
       "      <td>São Paulo</td>\n",
       "      <td>São Paulo</td>\n",
       "    </tr>\n",
       "    <tr>\n",
       "      <th>16862</th>\n",
       "      <td>ATENÇÃO BÁSICA</td>\n",
       "      <td>4.725292e+08</td>\n",
       "      <td>0.0</td>\n",
       "      <td>4.725292e+08</td>\n",
       "      <td>2012</td>\n",
       "      <td>355030</td>\n",
       "      <td>São Paulo</td>\n",
       "      <td>São Paulo</td>\n",
       "    </tr>\n",
       "    <tr>\n",
       "      <th>16862</th>\n",
       "      <td>ATENÇÃO BÁSICA</td>\n",
       "      <td>4.725292e+08</td>\n",
       "      <td>0.0</td>\n",
       "      <td>4.725292e+08</td>\n",
       "      <td>2012</td>\n",
       "      <td>355030</td>\n",
       "      <td>São Paulo</td>\n",
       "      <td>São Paulo</td>\n",
       "    </tr>\n",
       "    <tr>\n",
       "      <th>16862</th>\n",
       "      <td>ATENÇÃO BÁSICA</td>\n",
       "      <td>4.725292e+08</td>\n",
       "      <td>0.0</td>\n",
       "      <td>4.725292e+08</td>\n",
       "      <td>2012</td>\n",
       "      <td>355030</td>\n",
       "      <td>São Paulo</td>\n",
       "      <td>São Paulo</td>\n",
       "    </tr>\n",
       "    <tr>\n",
       "      <th>16862</th>\n",
       "      <td>ATENÇÃO BÁSICA</td>\n",
       "      <td>4.725292e+08</td>\n",
       "      <td>0.0</td>\n",
       "      <td>4.725292e+08</td>\n",
       "      <td>2012</td>\n",
       "      <td>355030</td>\n",
       "      <td>São Paulo</td>\n",
       "      <td>São Paulo</td>\n",
       "    </tr>\n",
       "    <tr>\n",
       "      <th>16862</th>\n",
       "      <td>ATENÇÃO BÁSICA</td>\n",
       "      <td>4.725292e+08</td>\n",
       "      <td>0.0</td>\n",
       "      <td>4.725292e+08</td>\n",
       "      <td>2012</td>\n",
       "      <td>355030</td>\n",
       "      <td>São Paulo</td>\n",
       "      <td>São Paulo</td>\n",
       "    </tr>\n",
       "    <tr>\n",
       "      <th>16862</th>\n",
       "      <td>ATENÇÃO BÁSICA</td>\n",
       "      <td>4.725292e+08</td>\n",
       "      <td>0.0</td>\n",
       "      <td>4.725292e+08</td>\n",
       "      <td>2012</td>\n",
       "      <td>355030</td>\n",
       "      <td>São Paulo</td>\n",
       "      <td>São Paulo</td>\n",
       "    </tr>\n",
       "  </tbody>\n",
       "</table>\n",
       "</div>"
      ],
      "text/plain": [
       "                 nome       vlTotal  vlDesconto     vlLiquido   ANO    code  \\\n",
       "16862  ATENÇÃO BÁSICA  4.725292e+08         0.0  4.725292e+08  2012  355030   \n",
       "16862  ATENÇÃO BÁSICA  4.725292e+08         0.0  4.725292e+08  2012  355030   \n",
       "16862  ATENÇÃO BÁSICA  4.725292e+08         0.0  4.725292e+08  2012  355030   \n",
       "16862  ATENÇÃO BÁSICA  4.725292e+08         0.0  4.725292e+08  2012  355030   \n",
       "16862  ATENÇÃO BÁSICA  4.725292e+08         0.0  4.725292e+08  2012  355030   \n",
       "16862  ATENÇÃO BÁSICA  4.725292e+08         0.0  4.725292e+08  2012  355030   \n",
       "16862  ATENÇÃO BÁSICA  4.725292e+08         0.0  4.725292e+08  2012  355030   \n",
       "16862  ATENÇÃO BÁSICA  4.725292e+08         0.0  4.725292e+08  2012  355030   \n",
       "16862  ATENÇÃO BÁSICA  4.725292e+08         0.0  4.725292e+08  2012  355030   \n",
       "16862  ATENÇÃO BÁSICA  4.725292e+08         0.0  4.725292e+08  2012  355030   \n",
       "\n",
       "            city      state  \n",
       "16862  São Paulo  São Paulo  \n",
       "16862  São Paulo  São Paulo  \n",
       "16862  São Paulo  São Paulo  \n",
       "16862  São Paulo  São Paulo  \n",
       "16862  São Paulo  São Paulo  \n",
       "16862  São Paulo  São Paulo  \n",
       "16862  São Paulo  São Paulo  \n",
       "16862  São Paulo  São Paulo  \n",
       "16862  São Paulo  São Paulo  \n",
       "16862  São Paulo  São Paulo  "
      ]
     },
     "execution_count": 17,
     "metadata": {},
     "output_type": "execute_result"
    }
   ],
   "source": [
    "ab12.nlargest(10, 'vlTotal')"
   ]
  },
  {
   "cell_type": "code",
   "execution_count": 18,
   "metadata": {},
   "outputs": [
    {
     "data": {
      "text/html": [
       "<div>\n",
       "<style scoped>\n",
       "    .dataframe tbody tr th:only-of-type {\n",
       "        vertical-align: middle;\n",
       "    }\n",
       "\n",
       "    .dataframe tbody tr th {\n",
       "        vertical-align: top;\n",
       "    }\n",
       "\n",
       "    .dataframe thead th {\n",
       "        text-align: right;\n",
       "    }\n",
       "</style>\n",
       "<table border=\"1\" class=\"dataframe\">\n",
       "  <thead>\n",
       "    <tr style=\"text-align: right;\">\n",
       "      <th></th>\n",
       "      <th>nome</th>\n",
       "      <th>vlTotal</th>\n",
       "      <th>vlDesconto</th>\n",
       "      <th>vlLiquido</th>\n",
       "      <th>ANO</th>\n",
       "      <th>code</th>\n",
       "      <th>city</th>\n",
       "      <th>state</th>\n",
       "    </tr>\n",
       "  </thead>\n",
       "  <tbody>\n",
       "    <tr>\n",
       "      <th>24681</th>\n",
       "      <td>ATENÇÃO BÁSICA</td>\n",
       "      <td>2088973.94</td>\n",
       "      <td>0.0</td>\n",
       "      <td>2088973.94</td>\n",
       "      <td>2013</td>\n",
       "      <td>110001</td>\n",
       "      <td>Alta Floresta D'Oeste</td>\n",
       "      <td>Rondônia</td>\n",
       "    </tr>\n",
       "    <tr>\n",
       "      <th>24681</th>\n",
       "      <td>ATENÇÃO BÁSICA</td>\n",
       "      <td>2088973.94</td>\n",
       "      <td>0.0</td>\n",
       "      <td>2088973.94</td>\n",
       "      <td>2013</td>\n",
       "      <td>110001</td>\n",
       "      <td>Alta Floresta D'Oeste</td>\n",
       "      <td>Rondônia</td>\n",
       "    </tr>\n",
       "    <tr>\n",
       "      <th>24681</th>\n",
       "      <td>ATENÇÃO BÁSICA</td>\n",
       "      <td>2088973.94</td>\n",
       "      <td>0.0</td>\n",
       "      <td>2088973.94</td>\n",
       "      <td>2013</td>\n",
       "      <td>110001</td>\n",
       "      <td>Alta Floresta D'Oeste</td>\n",
       "      <td>Rondônia</td>\n",
       "    </tr>\n",
       "    <tr>\n",
       "      <th>24681</th>\n",
       "      <td>ATENÇÃO BÁSICA</td>\n",
       "      <td>2088973.94</td>\n",
       "      <td>0.0</td>\n",
       "      <td>2088973.94</td>\n",
       "      <td>2013</td>\n",
       "      <td>110001</td>\n",
       "      <td>Alta Floresta D'Oeste</td>\n",
       "      <td>Rondônia</td>\n",
       "    </tr>\n",
       "    <tr>\n",
       "      <th>24681</th>\n",
       "      <td>ATENÇÃO BÁSICA</td>\n",
       "      <td>2088973.94</td>\n",
       "      <td>0.0</td>\n",
       "      <td>2088973.94</td>\n",
       "      <td>2013</td>\n",
       "      <td>110001</td>\n",
       "      <td>Alta Floresta D'Oeste</td>\n",
       "      <td>Rondônia</td>\n",
       "    </tr>\n",
       "  </tbody>\n",
       "</table>\n",
       "</div>"
      ],
      "text/plain": [
       "                 nome     vlTotal  vlDesconto   vlLiquido   ANO    code  \\\n",
       "24681  ATENÇÃO BÁSICA  2088973.94         0.0  2088973.94  2013  110001   \n",
       "24681  ATENÇÃO BÁSICA  2088973.94         0.0  2088973.94  2013  110001   \n",
       "24681  ATENÇÃO BÁSICA  2088973.94         0.0  2088973.94  2013  110001   \n",
       "24681  ATENÇÃO BÁSICA  2088973.94         0.0  2088973.94  2013  110001   \n",
       "24681  ATENÇÃO BÁSICA  2088973.94         0.0  2088973.94  2013  110001   \n",
       "\n",
       "                        city     state  \n",
       "24681  Alta Floresta D'Oeste  Rondônia  \n",
       "24681  Alta Floresta D'Oeste  Rondônia  \n",
       "24681  Alta Floresta D'Oeste  Rondônia  \n",
       "24681  Alta Floresta D'Oeste  Rondônia  \n",
       "24681  Alta Floresta D'Oeste  Rondônia  "
      ]
     },
     "execution_count": 18,
     "metadata": {},
     "output_type": "execute_result"
    }
   ],
   "source": [
    "ab13 = df_new[(df_new['nome'] =='ATENÇÃO BÁSICA') & (df_new['ANO'] == 2013)]\n",
    "ab13.head() "
   ]
  },
  {
   "cell_type": "code",
   "execution_count": 19,
   "metadata": {},
   "outputs": [
    {
     "data": {
      "text/plain": [
       "256709858176.0"
      ]
     },
     "execution_count": 19,
     "metadata": {},
     "output_type": "execute_result"
    }
   ],
   "source": [
    "ab13['vlTotal'].sum().round()"
   ]
  },
  {
   "cell_type": "code",
   "execution_count": 20,
   "metadata": {},
   "outputs": [
    {
     "data": {
      "text/html": [
       "<div>\n",
       "<style scoped>\n",
       "    .dataframe tbody tr th:only-of-type {\n",
       "        vertical-align: middle;\n",
       "    }\n",
       "\n",
       "    .dataframe tbody tr th {\n",
       "        vertical-align: top;\n",
       "    }\n",
       "\n",
       "    .dataframe thead th {\n",
       "        text-align: right;\n",
       "    }\n",
       "</style>\n",
       "<table border=\"1\" class=\"dataframe\">\n",
       "  <thead>\n",
       "    <tr style=\"text-align: right;\">\n",
       "      <th></th>\n",
       "      <th>nome</th>\n",
       "      <th>vlTotal</th>\n",
       "      <th>vlDesconto</th>\n",
       "      <th>vlLiquido</th>\n",
       "      <th>ANO</th>\n",
       "      <th>code</th>\n",
       "      <th>city</th>\n",
       "      <th>state</th>\n",
       "    </tr>\n",
       "  </thead>\n",
       "  <tbody>\n",
       "    <tr>\n",
       "      <th>41898</th>\n",
       "      <td>ATENÇÃO BÁSICA</td>\n",
       "      <td>4.913835e+08</td>\n",
       "      <td>0.0</td>\n",
       "      <td>4.913835e+08</td>\n",
       "      <td>2013</td>\n",
       "      <td>355030</td>\n",
       "      <td>São Paulo</td>\n",
       "      <td>São Paulo</td>\n",
       "    </tr>\n",
       "    <tr>\n",
       "      <th>41898</th>\n",
       "      <td>ATENÇÃO BÁSICA</td>\n",
       "      <td>4.913835e+08</td>\n",
       "      <td>0.0</td>\n",
       "      <td>4.913835e+08</td>\n",
       "      <td>2013</td>\n",
       "      <td>355030</td>\n",
       "      <td>São Paulo</td>\n",
       "      <td>São Paulo</td>\n",
       "    </tr>\n",
       "    <tr>\n",
       "      <th>41898</th>\n",
       "      <td>ATENÇÃO BÁSICA</td>\n",
       "      <td>4.913835e+08</td>\n",
       "      <td>0.0</td>\n",
       "      <td>4.913835e+08</td>\n",
       "      <td>2013</td>\n",
       "      <td>355030</td>\n",
       "      <td>São Paulo</td>\n",
       "      <td>São Paulo</td>\n",
       "    </tr>\n",
       "    <tr>\n",
       "      <th>41898</th>\n",
       "      <td>ATENÇÃO BÁSICA</td>\n",
       "      <td>4.913835e+08</td>\n",
       "      <td>0.0</td>\n",
       "      <td>4.913835e+08</td>\n",
       "      <td>2013</td>\n",
       "      <td>355030</td>\n",
       "      <td>São Paulo</td>\n",
       "      <td>São Paulo</td>\n",
       "    </tr>\n",
       "    <tr>\n",
       "      <th>41898</th>\n",
       "      <td>ATENÇÃO BÁSICA</td>\n",
       "      <td>4.913835e+08</td>\n",
       "      <td>0.0</td>\n",
       "      <td>4.913835e+08</td>\n",
       "      <td>2013</td>\n",
       "      <td>355030</td>\n",
       "      <td>São Paulo</td>\n",
       "      <td>São Paulo</td>\n",
       "    </tr>\n",
       "    <tr>\n",
       "      <th>41898</th>\n",
       "      <td>ATENÇÃO BÁSICA</td>\n",
       "      <td>4.913835e+08</td>\n",
       "      <td>0.0</td>\n",
       "      <td>4.913835e+08</td>\n",
       "      <td>2013</td>\n",
       "      <td>355030</td>\n",
       "      <td>São Paulo</td>\n",
       "      <td>São Paulo</td>\n",
       "    </tr>\n",
       "    <tr>\n",
       "      <th>41898</th>\n",
       "      <td>ATENÇÃO BÁSICA</td>\n",
       "      <td>4.913835e+08</td>\n",
       "      <td>0.0</td>\n",
       "      <td>4.913835e+08</td>\n",
       "      <td>2013</td>\n",
       "      <td>355030</td>\n",
       "      <td>São Paulo</td>\n",
       "      <td>São Paulo</td>\n",
       "    </tr>\n",
       "    <tr>\n",
       "      <th>41898</th>\n",
       "      <td>ATENÇÃO BÁSICA</td>\n",
       "      <td>4.913835e+08</td>\n",
       "      <td>0.0</td>\n",
       "      <td>4.913835e+08</td>\n",
       "      <td>2013</td>\n",
       "      <td>355030</td>\n",
       "      <td>São Paulo</td>\n",
       "      <td>São Paulo</td>\n",
       "    </tr>\n",
       "    <tr>\n",
       "      <th>41898</th>\n",
       "      <td>ATENÇÃO BÁSICA</td>\n",
       "      <td>4.913835e+08</td>\n",
       "      <td>0.0</td>\n",
       "      <td>4.913835e+08</td>\n",
       "      <td>2013</td>\n",
       "      <td>355030</td>\n",
       "      <td>São Paulo</td>\n",
       "      <td>São Paulo</td>\n",
       "    </tr>\n",
       "    <tr>\n",
       "      <th>41898</th>\n",
       "      <td>ATENÇÃO BÁSICA</td>\n",
       "      <td>4.913835e+08</td>\n",
       "      <td>0.0</td>\n",
       "      <td>4.913835e+08</td>\n",
       "      <td>2013</td>\n",
       "      <td>355030</td>\n",
       "      <td>São Paulo</td>\n",
       "      <td>São Paulo</td>\n",
       "    </tr>\n",
       "  </tbody>\n",
       "</table>\n",
       "</div>"
      ],
      "text/plain": [
       "                 nome       vlTotal  vlDesconto     vlLiquido   ANO    code  \\\n",
       "41898  ATENÇÃO BÁSICA  4.913835e+08         0.0  4.913835e+08  2013  355030   \n",
       "41898  ATENÇÃO BÁSICA  4.913835e+08         0.0  4.913835e+08  2013  355030   \n",
       "41898  ATENÇÃO BÁSICA  4.913835e+08         0.0  4.913835e+08  2013  355030   \n",
       "41898  ATENÇÃO BÁSICA  4.913835e+08         0.0  4.913835e+08  2013  355030   \n",
       "41898  ATENÇÃO BÁSICA  4.913835e+08         0.0  4.913835e+08  2013  355030   \n",
       "41898  ATENÇÃO BÁSICA  4.913835e+08         0.0  4.913835e+08  2013  355030   \n",
       "41898  ATENÇÃO BÁSICA  4.913835e+08         0.0  4.913835e+08  2013  355030   \n",
       "41898  ATENÇÃO BÁSICA  4.913835e+08         0.0  4.913835e+08  2013  355030   \n",
       "41898  ATENÇÃO BÁSICA  4.913835e+08         0.0  4.913835e+08  2013  355030   \n",
       "41898  ATENÇÃO BÁSICA  4.913835e+08         0.0  4.913835e+08  2013  355030   \n",
       "\n",
       "            city      state  \n",
       "41898  São Paulo  São Paulo  \n",
       "41898  São Paulo  São Paulo  \n",
       "41898  São Paulo  São Paulo  \n",
       "41898  São Paulo  São Paulo  \n",
       "41898  São Paulo  São Paulo  \n",
       "41898  São Paulo  São Paulo  \n",
       "41898  São Paulo  São Paulo  \n",
       "41898  São Paulo  São Paulo  \n",
       "41898  São Paulo  São Paulo  \n",
       "41898  São Paulo  São Paulo  "
      ]
     },
     "execution_count": 20,
     "metadata": {},
     "output_type": "execute_result"
    }
   ],
   "source": [
    "ab13.nlargest(10, 'vlTotal')"
   ]
  },
  {
   "cell_type": "code",
   "execution_count": 21,
   "metadata": {},
   "outputs": [
    {
     "data": {
      "text/plain": [
       "283766411434.0"
      ]
     },
     "execution_count": 21,
     "metadata": {},
     "output_type": "execute_result"
    }
   ],
   "source": [
    "ab14 = df_new[(df_new['nome'] =='ATENÇÃO BÁSICA') & (df_new['ANO'] == 2014)]\n",
    "ab14['vlTotal'].sum().round()"
   ]
  },
  {
   "cell_type": "code",
   "execution_count": 22,
   "metadata": {},
   "outputs": [
    {
     "data": {
      "text/plain": [
       "305339092049.0"
      ]
     },
     "execution_count": 22,
     "metadata": {},
     "output_type": "execute_result"
    }
   ],
   "source": [
    "ab15 = df_new[(df_new['nome'] =='ATENÇÃO BÁSICA') & (df_new['ANO'] == 2015)]\n",
    "ab15['vlTotal'].sum().round()"
   ]
  },
  {
   "cell_type": "code",
   "execution_count": 23,
   "metadata": {},
   "outputs": [
    {
     "data": {
      "text/plain": [
       "334570813714.0"
      ]
     },
     "execution_count": 23,
     "metadata": {},
     "output_type": "execute_result"
    }
   ],
   "source": [
    "ab16 = df_new[(df_new['nome'] =='ATENÇÃO BÁSICA') & (df_new['ANO'] == 2016)]\n",
    "ab16['vlTotal'].sum().round()"
   ]
  },
  {
   "cell_type": "code",
   "execution_count": 24,
   "metadata": {},
   "outputs": [
    {
     "data": {
      "text/plain": [
       "344213000025.0"
      ]
     },
     "execution_count": 24,
     "metadata": {},
     "output_type": "execute_result"
    }
   ],
   "source": [
    "ab17 = df_new[(df_new['nome'] =='ATENÇÃO BÁSICA') & (df_new['ANO'] == 2017)]\n",
    "ab17['vlTotal'].sum().round()"
   ]
  },
  {
   "cell_type": "markdown",
   "metadata": {},
   "source": [
    "#### criando um novo dataframe com os dados de anos e total de investimentos na Atenção Básica"
   ]
  },
  {
   "cell_type": "code",
   "execution_count": 25,
   "metadata": {},
   "outputs": [],
   "source": [
    "data = {\n",
    "'Ano': [2012, 2013,2014,2015,2016, 2017],\n",
    "'Investimentos_AB': [266531092832.0, 256709858176.0, 283766411434.0, 305339092049.0,334570813714.0,344213000025.0]\n",
    "}\n",
    "#Criando o DataFrame\n",
    "df = pd.DataFrame(data, columns=['Ano','Investimentos_AB']) "
   ]
  },
  {
   "cell_type": "code",
   "execution_count": 26,
   "metadata": {},
   "outputs": [
    {
     "data": {
      "text/html": [
       "<div>\n",
       "<style scoped>\n",
       "    .dataframe tbody tr th:only-of-type {\n",
       "        vertical-align: middle;\n",
       "    }\n",
       "\n",
       "    .dataframe tbody tr th {\n",
       "        vertical-align: top;\n",
       "    }\n",
       "\n",
       "    .dataframe thead th {\n",
       "        text-align: right;\n",
       "    }\n",
       "</style>\n",
       "<table border=\"1\" class=\"dataframe\">\n",
       "  <thead>\n",
       "    <tr style=\"text-align: right;\">\n",
       "      <th></th>\n",
       "      <th>Ano</th>\n",
       "      <th>Investimentos_AB</th>\n",
       "    </tr>\n",
       "  </thead>\n",
       "  <tbody>\n",
       "    <tr>\n",
       "      <th>0</th>\n",
       "      <td>2012</td>\n",
       "      <td>2.665311e+11</td>\n",
       "    </tr>\n",
       "    <tr>\n",
       "      <th>1</th>\n",
       "      <td>2013</td>\n",
       "      <td>2.567099e+11</td>\n",
       "    </tr>\n",
       "    <tr>\n",
       "      <th>2</th>\n",
       "      <td>2014</td>\n",
       "      <td>2.837664e+11</td>\n",
       "    </tr>\n",
       "    <tr>\n",
       "      <th>3</th>\n",
       "      <td>2015</td>\n",
       "      <td>3.053391e+11</td>\n",
       "    </tr>\n",
       "    <tr>\n",
       "      <th>4</th>\n",
       "      <td>2016</td>\n",
       "      <td>3.345708e+11</td>\n",
       "    </tr>\n",
       "    <tr>\n",
       "      <th>5</th>\n",
       "      <td>2017</td>\n",
       "      <td>3.442130e+11</td>\n",
       "    </tr>\n",
       "  </tbody>\n",
       "</table>\n",
       "</div>"
      ],
      "text/plain": [
       "    Ano  Investimentos_AB\n",
       "0  2012      2.665311e+11\n",
       "1  2013      2.567099e+11\n",
       "2  2014      2.837664e+11\n",
       "3  2015      3.053391e+11\n",
       "4  2016      3.345708e+11\n",
       "5  2017      3.442130e+11"
      ]
     },
     "execution_count": 26,
     "metadata": {},
     "output_type": "execute_result"
    }
   ],
   "source": [
    "df"
   ]
  },
  {
   "cell_type": "code",
   "execution_count": 27,
   "metadata": {},
   "outputs": [],
   "source": [
    "import matplotlib.pyplot as plt\n",
    "%matplotlib inline"
   ]
  },
  {
   "cell_type": "code",
   "execution_count": 28,
   "metadata": {},
   "outputs": [
    {
     "data": {
      "text/plain": [
       "Text(0.5, 1.0, 'Investimentos na Atenção Básica/ SUS 2012-2107')"
      ]
     },
     "execution_count": 28,
     "metadata": {},
     "output_type": "execute_result"
    },
    {
     "data": {
      "image/png": "[encoded data removed]",
      "text/plain": [
       "<Figure size 432x288 with 1 Axes>"
      ]
     },
     "metadata": {
      "needs_background": "light"
     },
     "output_type": "display_data"
    }
   ],
   "source": [
    "df.plot.bar()\n",
    "plt.title('Investimentos na Atenção Básica/ SUS 2012-2107')\n"
   ]
  },
  {
   "cell_type": "code",
   "execution_count": 29,
   "metadata": {},
   "outputs": [],
   "source": [
    "#### https://datawrapper.dwcdn.net/p7484/1/"
   ]
  },
  {
   "cell_type": "markdown",
   "metadata": {},
   "source": [
    "#### Calculando o investimento anual em média e alta complexidade"
   ]
  },
  {
   "cell_type": "code",
   "execution_count": 30,
   "metadata": {},
   "outputs": [
    {
     "data": {
      "text/plain": [
       "714708895203.0"
      ]
     },
     "execution_count": 30,
     "metadata": {},
     "output_type": "execute_result"
    }
   ],
   "source": [
    "ma12 = df_new[(df_new['nome'] =='MÉDIA E ALTA COMPLEXIDADE AMBULATORIAL E HOSPITALAR') & (df_new['ANO'] == 2012)]\n",
    "ma12['vlTotal'].sum().round()"
   ]
  },
  {
   "cell_type": "code",
   "execution_count": 31,
   "metadata": {},
   "outputs": [
    {
     "data": {
      "text/plain": [
       "728815546257.0"
      ]
     },
     "execution_count": 31,
     "metadata": {},
     "output_type": "execute_result"
    }
   ],
   "source": [
    "ma13 = df_new[(df_new['nome'] =='MÉDIA E ALTA COMPLEXIDADE AMBULATORIAL E HOSPITALAR') & (df_new['ANO'] == 2013)]\n",
    "ma13['vlTotal'].sum().round()"
   ]
  },
  {
   "cell_type": "code",
   "execution_count": 32,
   "metadata": {},
   "outputs": [
    {
     "data": {
      "text/plain": [
       "821957291088.0"
      ]
     },
     "execution_count": 32,
     "metadata": {},
     "output_type": "execute_result"
    }
   ],
   "source": [
    "ma14 = df_new[(df_new['nome'] =='MÉDIA E ALTA COMPLEXIDADE AMBULATORIAL E HOSPITALAR') & (df_new['ANO'] == 2014)]\n",
    "ma14['vlTotal'].sum().round()"
   ]
  },
  {
   "cell_type": "code",
   "execution_count": 33,
   "metadata": {},
   "outputs": [
    {
     "data": {
      "text/plain": [
       "882013835267.0"
      ]
     },
     "execution_count": 33,
     "metadata": {},
     "output_type": "execute_result"
    }
   ],
   "source": [
    "ma15 = df_new[(df_new['nome'] =='MÉDIA E ALTA COMPLEXIDADE AMBULATORIAL E HOSPITALAR') & (df_new['ANO'] == 2015)]\n",
    "ma15['vlTotal'].sum().round()"
   ]
  },
  {
   "cell_type": "code",
   "execution_count": 34,
   "metadata": {},
   "outputs": [
    {
     "data": {
      "text/plain": [
       "857866415342.0"
      ]
     },
     "execution_count": 34,
     "metadata": {},
     "output_type": "execute_result"
    }
   ],
   "source": [
    "ma16 = df_new[(df_new['nome'] =='MÉDIA E ALTA COMPLEXIDADE AMBULATORIAL E HOSPITALAR') & (df_new['ANO'] == 2016)]\n",
    "ma16['vlTotal'].sum().round()"
   ]
  },
  {
   "cell_type": "code",
   "execution_count": 35,
   "metadata": {},
   "outputs": [
    {
     "data": {
      "text/plain": [
       "935006877383.0"
      ]
     },
     "execution_count": 35,
     "metadata": {},
     "output_type": "execute_result"
    }
   ],
   "source": [
    "ma17 = df_new[(df_new['nome'] =='MÉDIA E ALTA COMPLEXIDADE AMBULATORIAL E HOSPITALAR') & (df_new['ANO'] == 2017)]\n",
    "ma17['vlTotal'].sum().round()"
   ]
  },
  {
   "cell_type": "code",
   "execution_count": 62,
   "metadata": {},
   "outputs": [
    {
     "data": {
      "text/plain": [
       "30.823456047434306"
      ]
     },
     "execution_count": 62,
     "metadata": {},
     "output_type": "execute_result"
    }
   ],
   "source": [
    "### variação percentual  valor final2017 - valor inicial2012/ valor2012 multiplicado por 100\n",
    "\n",
    "(935006877383.0 - 714708895203.0)/ 714708895203.0*100"
   ]
  },
  {
   "cell_type": "markdown",
   "metadata": {},
   "source": [
    "### Os repasses sus para procedimentos de média e alta complexidade aumentaram 31%"
   ]
  },
  {
   "cell_type": "code",
   "execution_count": 36,
   "metadata": {},
   "outputs": [],
   "source": [
    "#### Gráfico em https://datawrapper.dwcdn.net/3578X/1/"
   ]
  },
  {
   "cell_type": "code",
   "execution_count": 37,
   "metadata": {},
   "outputs": [
    {
     "data": {
      "text/html": [
       "<div>\n",
       "<style scoped>\n",
       "    .dataframe tbody tr th:only-of-type {\n",
       "        vertical-align: middle;\n",
       "    }\n",
       "\n",
       "    .dataframe tbody tr th {\n",
       "        vertical-align: top;\n",
       "    }\n",
       "\n",
       "    .dataframe thead th {\n",
       "        text-align: right;\n",
       "    }\n",
       "</style>\n",
       "<table border=\"1\" class=\"dataframe\">\n",
       "  <thead>\n",
       "    <tr style=\"text-align: right;\">\n",
       "      <th></th>\n",
       "      <th>nome</th>\n",
       "      <th>vlTotal</th>\n",
       "      <th>vlDesconto</th>\n",
       "      <th>vlLiquido</th>\n",
       "      <th>ANO</th>\n",
       "      <th>code</th>\n",
       "      <th>city</th>\n",
       "      <th>state</th>\n",
       "    </tr>\n",
       "  </thead>\n",
       "  <tbody>\n",
       "    <tr>\n",
       "      <th>0</th>\n",
       "      <td>ASSISTÊNCIA FARMACÊUTICA</td>\n",
       "      <td>124205.4</td>\n",
       "      <td>0.0</td>\n",
       "      <td>124205.4</td>\n",
       "      <td>2012</td>\n",
       "      <td>110001</td>\n",
       "      <td>Alta Floresta D'Oeste</td>\n",
       "      <td>Rondônia</td>\n",
       "    </tr>\n",
       "    <tr>\n",
       "      <th>0</th>\n",
       "      <td>ASSISTÊNCIA FARMACÊUTICA</td>\n",
       "      <td>124205.4</td>\n",
       "      <td>0.0</td>\n",
       "      <td>124205.4</td>\n",
       "      <td>2012</td>\n",
       "      <td>110001</td>\n",
       "      <td>Alta Floresta D'Oeste</td>\n",
       "      <td>Rondônia</td>\n",
       "    </tr>\n",
       "  </tbody>\n",
       "</table>\n",
       "</div>"
      ],
      "text/plain": [
       "                       nome   vlTotal  vlDesconto  vlLiquido   ANO    code  \\\n",
       "0  ASSISTÊNCIA FARMACÊUTICA  124205.4         0.0   124205.4  2012  110001   \n",
       "0  ASSISTÊNCIA FARMACÊUTICA  124205.4         0.0   124205.4  2012  110001   \n",
       "\n",
       "                    city     state  \n",
       "0  Alta Floresta D'Oeste  Rondônia  \n",
       "0  Alta Floresta D'Oeste  Rondônia  "
      ]
     },
     "execution_count": 37,
     "metadata": {},
     "output_type": "execute_result"
    }
   ],
   "source": [
    "### Analisar e comparar todas as categorias de investimento\n",
    "df_new.head(2)"
   ]
  },
  {
   "cell_type": "code",
   "execution_count": 38,
   "metadata": {},
   "outputs": [],
   "source": [
    "### Calculando o invest. em assistência farmacêutica"
   ]
  },
  {
   "cell_type": "code",
   "execution_count": 39,
   "metadata": {},
   "outputs": [
    {
     "data": {
      "text/plain": [
       "39516034049.0"
      ]
     },
     "execution_count": 39,
     "metadata": {},
     "output_type": "execute_result"
    }
   ],
   "source": [
    "farma12 = df_new[(df_new['nome'] =='ASSISTÊNCIA FARMACÊUTICA') & (df_new['ANO'] == 2012)]\n",
    "farma12['vlTotal'].sum().round()"
   ]
  },
  {
   "cell_type": "code",
   "execution_count": 40,
   "metadata": {},
   "outputs": [
    {
     "data": {
      "text/plain": [
       "37335533552.0"
      ]
     },
     "execution_count": 40,
     "metadata": {},
     "output_type": "execute_result"
    }
   ],
   "source": [
    "farma13 = df_new[(df_new['nome'] =='ASSISTÊNCIA FARMACÊUTICA') & (df_new['ANO'] == 2013)]\n",
    "farma13['vlTotal'].sum().round()"
   ]
  },
  {
   "cell_type": "code",
   "execution_count": 41,
   "metadata": {},
   "outputs": [
    {
     "data": {
      "text/plain": [
       "36068296859.0"
      ]
     },
     "execution_count": 41,
     "metadata": {},
     "output_type": "execute_result"
    }
   ],
   "source": [
    "farma14 = df_new[(df_new['nome'] =='ASSISTÊNCIA FARMACÊUTICA') & (df_new['ANO'] == 2014)]\n",
    "farma14['vlTotal'].sum().round()"
   ]
  },
  {
   "cell_type": "code",
   "execution_count": 42,
   "metadata": {},
   "outputs": [
    {
     "data": {
      "text/plain": [
       "35119872625.0"
      ]
     },
     "execution_count": 42,
     "metadata": {},
     "output_type": "execute_result"
    }
   ],
   "source": [
    "farma15 = df_new[(df_new['nome'] =='ASSISTÊNCIA FARMACÊUTICA') & (df_new['ANO'] == 2015)]\n",
    "farma15['vlTotal'].sum().round()"
   ]
  },
  {
   "cell_type": "code",
   "execution_count": 43,
   "metadata": {},
   "outputs": [
    {
     "data": {
      "text/plain": [
       "39377322401.0"
      ]
     },
     "execution_count": 43,
     "metadata": {},
     "output_type": "execute_result"
    }
   ],
   "source": [
    "farma16 = df_new[(df_new['nome'] =='ASSISTÊNCIA FARMACÊUTICA') & (df_new['ANO'] == 2016)]\n",
    "farma16['vlTotal'].sum().round()"
   ]
  },
  {
   "cell_type": "code",
   "execution_count": 44,
   "metadata": {},
   "outputs": [
    {
     "data": {
      "text/plain": [
       "33657878648.0"
      ]
     },
     "execution_count": 44,
     "metadata": {},
     "output_type": "execute_result"
    }
   ],
   "source": [
    "farma17 = df_new[(df_new['nome'] =='ASSISTÊNCIA FARMACÊUTICA') & (df_new['ANO'] == 2017)]\n",
    "farma17['vlTotal'].sum().round()"
   ]
  },
  {
   "cell_type": "code",
   "execution_count": 63,
   "metadata": {},
   "outputs": [
    {
     "data": {
      "text/plain": [
       "-14.824755423927083"
      ]
     },
     "execution_count": 63,
     "metadata": {},
     "output_type": "execute_result"
    }
   ],
   "source": [
    "### variação percentual  valor final2017 - valor inicial2012/ valor2012 multiplicado por 100\n",
    "\n",
    "(33657878648.0 - 39516034049.0)/39516034049.0*100"
   ]
  },
  {
   "cell_type": "markdown",
   "metadata": {},
   "source": [
    "#### Os repassses em assistência farmaceútica recuaram 15%"
   ]
  },
  {
   "cell_type": "code",
   "execution_count": 45,
   "metadata": {},
   "outputs": [
    {
     "data": {
      "text/plain": [
       "38008819224.0"
      ]
     },
     "execution_count": 45,
     "metadata": {},
     "output_type": "execute_result"
    }
   ],
   "source": [
    "vigia12 = df_new[(df_new['nome'] =='VIGILÂNCIA EM SAÚDE') & (df_new['ANO'] == 2012)]\n",
    "vigia12['vlTotal'].sum().round()           "
   ]
  },
  {
   "cell_type": "code",
   "execution_count": 46,
   "metadata": {},
   "outputs": [
    {
     "data": {
      "text/plain": [
       "45191929166.0"
      ]
     },
     "execution_count": 46,
     "metadata": {},
     "output_type": "execute_result"
    }
   ],
   "source": [
    "vigia13 = df_new[(df_new['nome'] =='VIGILÂNCIA EM SAÚDE') & (df_new['ANO'] == 2013)]\n",
    "vigia13['vlTotal'].sum().round()"
   ]
  },
  {
   "cell_type": "code",
   "execution_count": 47,
   "metadata": {},
   "outputs": [
    {
     "data": {
      "text/plain": [
       "40256700259.0"
      ]
     },
     "execution_count": 47,
     "metadata": {},
     "output_type": "execute_result"
    }
   ],
   "source": [
    "vigia14 = df_new[(df_new['nome'] =='VIGILÂNCIA EM SAÚDE') & (df_new['ANO'] == 2014)]\n",
    "vigia14['vlTotal'].sum().round()"
   ]
  },
  {
   "cell_type": "code",
   "execution_count": 48,
   "metadata": {},
   "outputs": [
    {
     "data": {
      "text/plain": [
       "38721176152.0"
      ]
     },
     "execution_count": 48,
     "metadata": {},
     "output_type": "execute_result"
    }
   ],
   "source": [
    "vigia15 = df_new[(df_new['nome'] =='VIGILÂNCIA EM SAÚDE') & (df_new['ANO'] == 2015)]\n",
    "vigia15['vlTotal'].sum().round()"
   ]
  },
  {
   "cell_type": "code",
   "execution_count": 49,
   "metadata": {},
   "outputs": [
    {
     "data": {
      "text/plain": [
       "54385840617.0"
      ]
     },
     "execution_count": 49,
     "metadata": {},
     "output_type": "execute_result"
    }
   ],
   "source": [
    "vigia16 = df_new[(df_new['nome'] =='VIGILÂNCIA EM SAÚDE') & (df_new['ANO'] == 2016)]\n",
    "vigia16['vlTotal'].sum().round()"
   ]
  },
  {
   "cell_type": "code",
   "execution_count": 50,
   "metadata": {},
   "outputs": [
    {
     "data": {
      "text/plain": [
       "46674418156.0"
      ]
     },
     "execution_count": 50,
     "metadata": {},
     "output_type": "execute_result"
    }
   ],
   "source": [
    "vigia17 = df_new[(df_new['nome'] =='VIGILÂNCIA EM SAÚDE') & (df_new['ANO'] == 2017)]\n",
    "vigia17['vlTotal'].sum().round()"
   ]
  },
  {
   "cell_type": "code",
   "execution_count": 64,
   "metadata": {},
   "outputs": [
    {
     "data": {
      "text/plain": [
       "22.798916432868978"
      ]
     },
     "execution_count": 64,
     "metadata": {},
     "output_type": "execute_result"
    }
   ],
   "source": [
    "### variação percentual  valor final2017 - valor inicial2012/ valor2012 multiplicado por 100\n",
    "\n",
    "(46674418156.0 - 38008819224.0)/38008819224.0*100"
   ]
  },
  {
   "cell_type": "markdown",
   "metadata": {},
   "source": [
    "#### Os repasses em Vililância em Saúde cresceram 23%"
   ]
  },
  {
   "cell_type": "code",
   "execution_count": 51,
   "metadata": {},
   "outputs": [
    {
     "data": {
      "text/plain": [
       "5377783878.0"
      ]
     },
     "execution_count": 51,
     "metadata": {},
     "output_type": "execute_result"
    }
   ],
   "source": [
    "gestao12 = df_new[(df_new['nome'] == 'GESTÃO DO SUS') & (df_new['ANO'] == 2012)]\n",
    "gestao12['vlTotal'].sum().round()"
   ]
  },
  {
   "cell_type": "code",
   "execution_count": 52,
   "metadata": {},
   "outputs": [
    {
     "data": {
      "text/plain": [
       "3788891544.0"
      ]
     },
     "execution_count": 52,
     "metadata": {},
     "output_type": "execute_result"
    }
   ],
   "source": [
    "gestao13 = df_new[(df_new['nome'] == 'GESTÃO DO SUS') & (df_new['ANO'] == 2013)]\n",
    "gestao13['vlTotal'].sum().round()"
   ]
  },
  {
   "cell_type": "code",
   "execution_count": 53,
   "metadata": {},
   "outputs": [
    {
     "data": {
      "text/plain": [
       "2328830316.0"
      ]
     },
     "execution_count": 53,
     "metadata": {},
     "output_type": "execute_result"
    }
   ],
   "source": [
    "gestao14 = df_new[(df_new['nome'] == 'GESTÃO DO SUS') & (df_new['ANO'] == 2014)]\n",
    "gestao14['vlTotal'].sum().round()"
   ]
  },
  {
   "cell_type": "code",
   "execution_count": 54,
   "metadata": {},
   "outputs": [
    {
     "data": {
      "text/plain": [
       "1408195363.0"
      ]
     },
     "execution_count": 54,
     "metadata": {},
     "output_type": "execute_result"
    }
   ],
   "source": [
    "gestao15 = df_new[(df_new['nome'] == 'GESTÃO DO SUS') & (df_new['ANO'] == 2015)]\n",
    "gestao15['vlTotal'].sum().round()"
   ]
  },
  {
   "cell_type": "code",
   "execution_count": 55,
   "metadata": {},
   "outputs": [
    {
     "data": {
      "text/plain": [
       "1260423894.0"
      ]
     },
     "execution_count": 55,
     "metadata": {},
     "output_type": "execute_result"
    }
   ],
   "source": [
    "gestao16 = df_new[(df_new['nome'] == 'GESTÃO DO SUS') & (df_new['ANO'] == 2016)]\n",
    "gestao16['vlTotal'].sum().round()"
   ]
  },
  {
   "cell_type": "code",
   "execution_count": 56,
   "metadata": {},
   "outputs": [
    {
     "data": {
      "text/plain": [
       "1166936717.0"
      ]
     },
     "execution_count": 56,
     "metadata": {},
     "output_type": "execute_result"
    }
   ],
   "source": [
    "gestao17 = df_new[(df_new['nome'] == 'GESTÃO DO SUS') & (df_new['ANO'] == 2017)]\n",
    "gestao17['vlTotal'].sum().round()"
   ]
  },
  {
   "cell_type": "code",
   "execution_count": 57,
   "metadata": {},
   "outputs": [],
   "source": [
    "#### https://datawrapper.dwcdn.net/Ixore/1/"
   ]
  },
  {
   "cell_type": "code",
   "execution_count": null,
   "metadata": {},
   "outputs": [],
   "source": []
  },
  {
   "cell_type": "code",
   "execution_count": null,
   "metadata": {},
   "outputs": [],
   "source": []
  },
  {
   "cell_type": "code",
   "execution_count": null,
   "metadata": {},
   "outputs": [],
   "source": []
  }
 ],
 "metadata": {
  "kernelspec": {
   "display_name": "Python [conda env:root] *",
   "language": "python",
   "name": "conda-root-py"
  },
  "language_info": {
   "codemirror_mode": {
    "name": "ipython",
    "version": 3
   },
   "file_extension": ".py",
   "mimetype": "text/x-python",
   "name": "python",
   "nbconvert_exporter": "python",
   "pygments_lexer": "ipython3",
   "version": "3.6.8"
  }
 },
 "nbformat": 4,
 "nbformat_minor": 2
}
